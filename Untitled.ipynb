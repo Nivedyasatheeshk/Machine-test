{
 "cells": [
  {
   "cell_type": "raw",
   "id": "66a85dc7-a313-43af-be9e-a07a032e6f68",
   "metadata": {},
   "source": [
    "2. Identify the correlation between fires and acres.\n",
    "3. Compute moving averages for 5years of fires and acres.\n",
    "4. Develop the relation plot for Number of Fires and Acres Burned in US in years 1987 to 2019."
   ]
  },
  {
   "cell_type": "code",
   "execution_count": 1,
   "id": "0f6bac00-5005-43f7-a3cf-cca37b71f569",
   "metadata": {},
   "outputs": [],
   "source": [
    "import pandas as pd\n",
    "import matplotlib.pyplot as plt"
   ]
  },
  {
   "cell_type": "code",
   "execution_count": 2,
   "id": "9817b039-2a71-4e5b-8ef4-e27a7de2204a",
   "metadata": {},
   "outputs": [],
   "source": [
    "df = pd.read_csv('weather.csv')"
   ]
  },
  {
   "cell_type": "code",
   "execution_count": 3,
   "id": "f5c1ec5f-2677-436d-aba8-c86a2e4a4143",
   "metadata": {},
   "outputs": [
    {
     "data": {
      "text/html": [
       "<div>\n",
       "<style scoped>\n",
       "    .dataframe tbody tr th:only-of-type {\n",
       "        vertical-align: middle;\n",
       "    }\n",
       "\n",
       "    .dataframe tbody tr th {\n",
       "        vertical-align: top;\n",
       "    }\n",
       "\n",
       "    .dataframe thead th {\n",
       "        text-align: right;\n",
       "    }\n",
       "</style>\n",
       "<table border=\"1\" class=\"dataframe\">\n",
       "  <thead>\n",
       "    <tr style=\"text-align: right;\">\n",
       "      <th></th>\n",
       "      <th>Year</th>\n",
       "      <th>Fires</th>\n",
       "      <th>Acres</th>\n",
       "    </tr>\n",
       "  </thead>\n",
       "  <tbody>\n",
       "    <tr>\n",
       "      <th>0</th>\n",
       "      <td>2019</td>\n",
       "      <td>50 477</td>\n",
       "      <td>4 664 364</td>\n",
       "    </tr>\n",
       "    <tr>\n",
       "      <th>1</th>\n",
       "      <td>2018</td>\n",
       "      <td>58 083</td>\n",
       "      <td>8 767 492</td>\n",
       "    </tr>\n",
       "    <tr>\n",
       "      <th>2</th>\n",
       "      <td>2017</td>\n",
       "      <td>71 499</td>\n",
       "      <td>10 026 086</td>\n",
       "    </tr>\n",
       "    <tr>\n",
       "      <th>3</th>\n",
       "      <td>2016</td>\n",
       "      <td>67 743</td>\n",
       "      <td>5 509 995</td>\n",
       "    </tr>\n",
       "    <tr>\n",
       "      <th>4</th>\n",
       "      <td>2015</td>\n",
       "      <td>68 151</td>\n",
       "      <td>10 125 149</td>\n",
       "    </tr>\n",
       "  </tbody>\n",
       "</table>\n",
       "</div>"
      ],
      "text/plain": [
       "   Year   Fires       Acres\n",
       "0  2019  50 477   4 664 364\n",
       "1  2018  58 083   8 767 492\n",
       "2  2017  71 499  10 026 086\n",
       "3  2016  67 743   5 509 995\n",
       "4  2015  68 151  10 125 149"
      ]
     },
     "execution_count": 3,
     "metadata": {},
     "output_type": "execute_result"
    }
   ],
   "source": [
    "df.head(5)"
   ]
  },
  {
   "cell_type": "code",
   "execution_count": 4,
   "id": "9d2a0756-cc6d-4b0b-9592-2b1c2c5774d0",
   "metadata": {},
   "outputs": [
    {
     "data": {
      "text/plain": [
       "Year      int64\n",
       "Fires    object\n",
       "Acres    object\n",
       "dtype: object"
      ]
     },
     "execution_count": 4,
     "metadata": {},
     "output_type": "execute_result"
    }
   ],
   "source": [
    "df.dtypes"
   ]
  },
  {
   "cell_type": "code",
   "execution_count": 6,
   "id": "59569f6a-a07a-4dce-a29e-8502744bdd8c",
   "metadata": {},
   "outputs": [
    {
     "data": {
      "text/plain": [
       "Year     0\n",
       "Fires    0\n",
       "Acres    0\n",
       "dtype: int64"
      ]
     },
     "execution_count": 6,
     "metadata": {},
     "output_type": "execute_result"
    }
   ],
   "source": [
    "df.isna().sum()"
   ]
  },
  {
   "cell_type": "code",
   "execution_count": 7,
   "id": "273eb217-59ef-4fc4-8e73-765302b0f327",
   "metadata": {},
   "outputs": [],
   "source": [
    "d= df['Fires']"
   ]
  },
  {
   "cell_type": "code",
   "execution_count": 8,
   "id": "9f8ed332-f88e-4035-90f2-dfe51148a841",
   "metadata": {},
   "outputs": [],
   "source": [
    "d2=df['Acres']"
   ]
  },
  {
   "cell_type": "code",
   "execution_count": 9,
   "id": "43243c2b-09b5-403c-9e37-9cd7e18d78e1",
   "metadata": {},
   "outputs": [
    {
     "data": {
      "text/plain": [
       "0    50 477\n",
       "1    58 083\n",
       "2    71 499\n",
       "3    67 743\n",
       "4    68 151\n",
       "Name: Fires, dtype: object"
      ]
     },
     "execution_count": 9,
     "metadata": {},
     "output_type": "execute_result"
    }
   ],
   "source": [
    "d.head()"
   ]
  },
  {
   "cell_type": "code",
   "execution_count": 10,
   "id": "f3d2582e-1883-415f-b56f-e23439ddac1e",
   "metadata": {},
   "outputs": [],
   "source": [
    "import re"
   ]
  },
  {
   "cell_type": "code",
   "execution_count": 11,
   "id": "a3e85b86-2601-44e3-b6dd-4450c1e4ad70",
   "metadata": {},
   "outputs": [
    {
     "data": {
      "text/plain": [
       "'45466587'"
      ]
     },
     "execution_count": 11,
     "metadata": {},
     "output_type": "execute_result"
    }
   ],
   "source": [
    "def remove(val):\n",
    "    v=re.sub('[^0-9]','',val)\n",
    "    return v\n",
    "remove('454 665 87')    \n",
    "        "
   ]
  },
  {
   "cell_type": "code",
   "execution_count": 12,
   "id": "e6151218-234e-40fc-a502-82eb38cd3cab",
   "metadata": {},
   "outputs": [],
   "source": [
    "d=d.apply(remove)\n",
    "d2=d2.apply(remove)"
   ]
  },
  {
   "cell_type": "code",
   "execution_count": 14,
   "id": "c1018373-b5cf-4c52-bb7f-fa2f7c96bcae",
   "metadata": {},
   "outputs": [],
   "source": [
    "df['Fires'] = d\n",
    "df['Acres']= d2"
   ]
  },
  {
   "cell_type": "code",
   "execution_count": 15,
   "id": "b16b6b0f-777c-4589-b05c-1acb8abd5bf2",
   "metadata": {},
   "outputs": [
    {
     "data": {
      "text/html": [
       "<div>\n",
       "<style scoped>\n",
       "    .dataframe tbody tr th:only-of-type {\n",
       "        vertical-align: middle;\n",
       "    }\n",
       "\n",
       "    .dataframe tbody tr th {\n",
       "        vertical-align: top;\n",
       "    }\n",
       "\n",
       "    .dataframe thead th {\n",
       "        text-align: right;\n",
       "    }\n",
       "</style>\n",
       "<table border=\"1\" class=\"dataframe\">\n",
       "  <thead>\n",
       "    <tr style=\"text-align: right;\">\n",
       "      <th></th>\n",
       "      <th>Year</th>\n",
       "      <th>Fires</th>\n",
       "      <th>Acres</th>\n",
       "    </tr>\n",
       "  </thead>\n",
       "  <tbody>\n",
       "    <tr>\n",
       "      <th>0</th>\n",
       "      <td>2019</td>\n",
       "      <td>50477</td>\n",
       "      <td>4664364</td>\n",
       "    </tr>\n",
       "    <tr>\n",
       "      <th>1</th>\n",
       "      <td>2018</td>\n",
       "      <td>58083</td>\n",
       "      <td>8767492</td>\n",
       "    </tr>\n",
       "    <tr>\n",
       "      <th>2</th>\n",
       "      <td>2017</td>\n",
       "      <td>71499</td>\n",
       "      <td>10026086</td>\n",
       "    </tr>\n",
       "    <tr>\n",
       "      <th>3</th>\n",
       "      <td>2016</td>\n",
       "      <td>67743</td>\n",
       "      <td>5509995</td>\n",
       "    </tr>\n",
       "    <tr>\n",
       "      <th>4</th>\n",
       "      <td>2015</td>\n",
       "      <td>68151</td>\n",
       "      <td>10125149</td>\n",
       "    </tr>\n",
       "  </tbody>\n",
       "</table>\n",
       "</div>"
      ],
      "text/plain": [
       "   Year  Fires     Acres\n",
       "0  2019  50477   4664364\n",
       "1  2018  58083   8767492\n",
       "2  2017  71499  10026086\n",
       "3  2016  67743   5509995\n",
       "4  2015  68151  10125149"
      ]
     },
     "execution_count": 15,
     "metadata": {},
     "output_type": "execute_result"
    }
   ],
   "source": [
    "df.head()"
   ]
  },
  {
   "cell_type": "code",
   "execution_count": 19,
   "id": "2cea6e7e-cb49-4702-b3bd-764b415ae051",
   "metadata": {},
   "outputs": [],
   "source": [
    "df['Fires'] = df['Fires'].astype(float, errors = 'raise')\n",
    "df['Acres'] = df['Acres'].astype(float, errors = 'raise')"
   ]
  },
  {
   "cell_type": "code",
   "execution_count": 20,
   "id": "4a79ae6a-87dd-447f-96ef-feae02720720",
   "metadata": {},
   "outputs": [
    {
     "data": {
      "text/plain": [
       "Year       int64\n",
       "Fires    float64\n",
       "Acres    float64\n",
       "dtype: object"
      ]
     },
     "execution_count": 20,
     "metadata": {},
     "output_type": "execute_result"
    }
   ],
   "source": [
    "df.dtypes"
   ]
  },
  {
   "cell_type": "code",
   "execution_count": 68,
   "id": "1f1b30b5-abe7-44a7-922b-af990733d512",
   "metadata": {},
   "outputs": [
    {
     "data": {
      "text/plain": [
       "Text(0.5, 1.0, 'fires*100 and acres  year in years')"
      ]
     },
     "execution_count": 68,
     "metadata": {},
     "output_type": "execute_result"
    },
    {
     "data": {
      "image/png": "[encoded data removed]",
      "text/plain": [
       "<Figure size 432x288 with 1 Axes>"
      ]
     },
     "metadata": {
      "needs_background": "light"
     },
     "output_type": "display_data"
    }
   ],
   "source": [
    "plt.plot(df['Year'],df['Fires']*100,color='red',label='FIRES')\n",
    "plt.plot(df['Year'],df['Acres'],color='green',label='ACRES')\n",
    "plt.legend()\n",
    "plt.title('fires*100 and acres  year in years')"
   ]
  },
  {
   "cell_type": "code",
   "execution_count": 26,
   "id": "52cbb915-cb0f-4268-bcef-ed4e7a880ff3",
   "metadata": {},
   "outputs": [
    {
     "data": {
      "text/plain": [
       "Text(0.5, 1.0, 're FIRE AND ACRES')"
      ]
     },
     "execution_count": 26,
     "metadata": {},
     "output_type": "execute_result"
    },
    {
     "data": {
      "image/png": "[encoded data removed]",
      "text/plain": [
       "<Figure size 432x288 with 1 Axes>"
      ]
     },
     "metadata": {
      "needs_background": "light"
     },
     "output_type": "display_data"
    }
   ],
   "source": [
    "plt.plot(df['Acres'],df['Fires'],color='red')\n",
    "plt.title('re FIRE AND ACRES')"
   ]
  },
  {
   "cell_type": "code",
   "execution_count": 28,
   "id": "ee046d05-88aa-4185-b2f6-b215aecb72cf",
   "metadata": {},
   "outputs": [
    {
     "data": {
      "text/plain": [
       "Text(0.5, 1.0, 'fire and acres..')"
      ]
     },
     "execution_count": 28,
     "metadata": {},
     "output_type": "execute_result"
    },
    {
     "data": {
      "image/png": "[encoded data removed]",
      "text/plain": [
       "<Figure size 432x288 with 1 Axes>"
      ]
     },
     "metadata": {
      "needs_background": "light"
     },
     "output_type": "display_data"
    }
   ],
   "source": [
    "# import numpy as np\n",
    "# x_val=df['Year']\n",
    "# x_range=np.arange(len(x_val))\n",
    "# width=.4\n",
    "# y_value=df['Fires']*100\n",
    "# plt.bar(x_range+width,y_value,width=width,label='fire',color='red')\n",
    "# y_value_2=df['Acres']\n",
    "# plt.bar(x_range,y_value_2,width=width,label='acres',color='blue')\n",
    "# plt.title('fire and acres..')\n"
   ]
  },
  {
   "cell_type": "code",
   "execution_count": 77,
   "id": "b2edb855-a9e2-489f-aacd-e23d5e53d8b0",
   "metadata": {},
   "outputs": [
    {
     "data": {
      "text/plain": [
       "<bound method Series.unique of 0     2019\n",
       "1     2018\n",
       "2     2017\n",
       "3     2016\n",
       "4     2015\n",
       "      ... \n",
       "89    1930\n",
       "90    1929\n",
       "91    1928\n",
       "92    1927\n",
       "93    1926\n",
       "Name: Year, Length: 94, dtype: int64>"
      ]
     },
     "execution_count": 77,
     "metadata": {},
     "output_type": "execute_result"
    }
   ],
   "source": [
    "data['Year'].unique"
   ]
  },
  {
   "cell_type": "raw",
   "id": "048f9a7c-f881-4812-a7cf-f6463e2ac850",
   "metadata": {},
   "source": [
    " Compute moving averages for 5years of fires and acres.\n"
   ]
  },
  {
   "cell_type": "code",
   "execution_count": 78,
   "id": "68cf507c-924f-44bf-a8c7-2f13c657544a",
   "metadata": {},
   "outputs": [],
   "source": []
  },
  {
   "cell_type": "code",
   "execution_count": 34,
   "id": "f87532af-ccbf-4e35-992d-3d97bf6fc5c1",
   "metadata": {},
   "outputs": [
    {
     "data": {
      "text/html": [
       "<div>\n",
       "<style scoped>\n",
       "    .dataframe tbody tr th:only-of-type {\n",
       "        vertical-align: middle;\n",
       "    }\n",
       "\n",
       "    .dataframe tbody tr th {\n",
       "        vertical-align: top;\n",
       "    }\n",
       "\n",
       "    .dataframe thead th {\n",
       "        text-align: right;\n",
       "    }\n",
       "</style>\n",
       "<table border=\"1\" class=\"dataframe\">\n",
       "  <thead>\n",
       "    <tr style=\"text-align: right;\">\n",
       "      <th></th>\n",
       "      <th>Year</th>\n",
       "      <th>Fires</th>\n",
       "      <th>Acres</th>\n",
       "      <th>ma</th>\n",
       "      <th>ma2</th>\n",
       "    </tr>\n",
       "  </thead>\n",
       "  <tbody>\n",
       "    <tr>\n",
       "      <th>0</th>\n",
       "      <td>2019</td>\n",
       "      <td>50477.0</td>\n",
       "      <td>4664364.0</td>\n",
       "      <td>NaN</td>\n",
       "      <td>NaN</td>\n",
       "    </tr>\n",
       "    <tr>\n",
       "      <th>1</th>\n",
       "      <td>2018</td>\n",
       "      <td>58083.0</td>\n",
       "      <td>8767492.0</td>\n",
       "      <td>NaN</td>\n",
       "      <td>NaN</td>\n",
       "    </tr>\n",
       "    <tr>\n",
       "      <th>2</th>\n",
       "      <td>2017</td>\n",
       "      <td>71499.0</td>\n",
       "      <td>10026086.0</td>\n",
       "      <td>NaN</td>\n",
       "      <td>NaN</td>\n",
       "    </tr>\n",
       "    <tr>\n",
       "      <th>3</th>\n",
       "      <td>2016</td>\n",
       "      <td>67743.0</td>\n",
       "      <td>5509995.0</td>\n",
       "      <td>NaN</td>\n",
       "      <td>NaN</td>\n",
       "    </tr>\n",
       "    <tr>\n",
       "      <th>4</th>\n",
       "      <td>2015</td>\n",
       "      <td>68151.0</td>\n",
       "      <td>10125149.0</td>\n",
       "      <td>63190.6</td>\n",
       "      <td>7818617.2</td>\n",
       "    </tr>\n",
       "  </tbody>\n",
       "</table>\n",
       "</div>"
      ],
      "text/plain": [
       "   Year    Fires       Acres       ma        ma2\n",
       "0  2019  50477.0   4664364.0      NaN        NaN\n",
       "1  2018  58083.0   8767492.0      NaN        NaN\n",
       "2  2017  71499.0  10026086.0      NaN        NaN\n",
       "3  2016  67743.0   5509995.0      NaN        NaN\n",
       "4  2015  68151.0  10125149.0  63190.6  7818617.2"
      ]
     },
     "execution_count": 34,
     "metadata": {},
     "output_type": "execute_result"
    }
   ],
   "source": [
    "df.head()"
   ]
  },
  {
   "cell_type": "code",
   "execution_count": null,
   "id": "5c01e214-4bd3-47a5-a2cd-f50b5c4e073f",
   "metadata": {},
   "outputs": [],
   "source": []
  },
  {
   "cell_type": "code",
   "execution_count": 81,
   "id": "fd2879d1-8c66-4232-b5ae-8ac404bfee32",
   "metadata": {},
   "outputs": [
    {
     "data": {
      "text/html": [
       "<div>\n",
       "<style scoped>\n",
       "    .dataframe tbody tr th:only-of-type {\n",
       "        vertical-align: middle;\n",
       "    }\n",
       "\n",
       "    .dataframe tbody tr th {\n",
       "        vertical-align: top;\n",
       "    }\n",
       "\n",
       "    .dataframe thead th {\n",
       "        text-align: right;\n",
       "    }\n",
       "</style>\n",
       "<table border=\"1\" class=\"dataframe\">\n",
       "  <thead>\n",
       "    <tr style=\"text-align: right;\">\n",
       "      <th></th>\n",
       "      <th>Year</th>\n",
       "      <th>Fires</th>\n",
       "      <th>Acres</th>\n",
       "    </tr>\n",
       "  </thead>\n",
       "  <tbody>\n",
       "    <tr>\n",
       "      <th>0</th>\n",
       "      <td>2019</td>\n",
       "      <td>50477.0</td>\n",
       "      <td>4664364.0</td>\n",
       "    </tr>\n",
       "    <tr>\n",
       "      <th>1</th>\n",
       "      <td>2018</td>\n",
       "      <td>58083.0</td>\n",
       "      <td>8767492.0</td>\n",
       "    </tr>\n",
       "    <tr>\n",
       "      <th>2</th>\n",
       "      <td>2017</td>\n",
       "      <td>71499.0</td>\n",
       "      <td>10026086.0</td>\n",
       "    </tr>\n",
       "    <tr>\n",
       "      <th>3</th>\n",
       "      <td>2016</td>\n",
       "      <td>67743.0</td>\n",
       "      <td>5509995.0</td>\n",
       "    </tr>\n",
       "    <tr>\n",
       "      <th>4</th>\n",
       "      <td>2015</td>\n",
       "      <td>68151.0</td>\n",
       "      <td>10125149.0</td>\n",
       "    </tr>\n",
       "  </tbody>\n",
       "</table>\n",
       "</div>"
      ],
      "text/plain": [
       "   Year    Fires       Acres\n",
       "0  2019  50477.0   4664364.0\n",
       "1  2018  58083.0   8767492.0\n",
       "2  2017  71499.0  10026086.0\n",
       "3  2016  67743.0   5509995.0\n",
       "4  2015  68151.0  10125149.0"
      ]
     },
     "execution_count": 81,
     "metadata": {},
     "output_type": "execute_result"
    }
   ],
   "source": [
    "data.head()"
   ]
  },
  {
   "cell_type": "code",
   "execution_count": 31,
   "id": "ea779fc7-fcdb-43fd-8725-0538ed19dba8",
   "metadata": {},
   "outputs": [],
   "source": [
    "df['ma'] = df.Fires.rolling(5).mean()\n",
    "df['ma2'] = df.Acres.rolling(5).mean()"
   ]
  },
  {
   "cell_type": "code",
   "execution_count": 69,
   "id": "10d5d690-2de4-42d0-a9c4-082e829b4ab4",
   "metadata": {},
   "outputs": [
    {
     "data": {
      "text/plain": [
       "Text(0.5, 1.0, 'moving average')"
      ]
     },
     "execution_count": 69,
     "metadata": {},
     "output_type": "execute_result"
    },
    {
     "data": {
      "image/png": "[encoded data removed]",
      "text/plain": [
       "<Figure size 432x288 with 1 Axes>"
      ]
     },
     "metadata": {
      "needs_background": "light"
     },
     "output_type": "display_data"
    }
   ],
   "source": [
    "plt.plot(df['Fires'],label = 'fire',color=\"blue\")\n",
    "plt.plot(df['Acres'],label = 'acres',color= 'red')\n",
    "plt.plot(df['ma'],label = 'maf',color='green')\n",
    "plt.plot(df['ma2'],label = 'maa',color= 'black')\n",
    "plt.legend\n",
    "plt.title('moving average')"
   ]
  },
  {
   "cell_type": "code",
   "execution_count": null,
   "id": "5d878501-0b88-4282-86f6-fdd8e92873e3",
   "metadata": {},
   "outputs": [],
   "source": []
  },
  {
   "cell_type": "code",
   "execution_count": 31,
   "id": "ca5f4ef4-b1a8-45e8-8606-2b4da4e9875e",
   "metadata": {},
   "outputs": [],
   "source": [
    "data=data.set_index('Year')"
   ]
  },
  {
   "cell_type": "code",
   "execution_count": 32,
   "id": "e8efcc70-9b90-4a67-b882-548cae0faa88",
   "metadata": {},
   "outputs": [
    {
     "data": {
      "text/html": [
       "<div>\n",
       "<style scoped>\n",
       "    .dataframe tbody tr th:only-of-type {\n",
       "        vertical-align: middle;\n",
       "    }\n",
       "\n",
       "    .dataframe tbody tr th {\n",
       "        vertical-align: top;\n",
       "    }\n",
       "\n",
       "    .dataframe thead th {\n",
       "        text-align: right;\n",
       "    }\n",
       "</style>\n",
       "<table border=\"1\" class=\"dataframe\">\n",
       "  <thead>\n",
       "    <tr style=\"text-align: right;\">\n",
       "      <th></th>\n",
       "      <th>Fires</th>\n",
       "      <th>Acres</th>\n",
       "      <th>ma</th>\n",
       "      <th>ma2</th>\n",
       "    </tr>\n",
       "    <tr>\n",
       "      <th>Year</th>\n",
       "      <th></th>\n",
       "      <th></th>\n",
       "      <th></th>\n",
       "      <th></th>\n",
       "    </tr>\n",
       "  </thead>\n",
       "  <tbody>\n",
       "    <tr>\n",
       "      <th>2019</th>\n",
       "      <td>50477.0</td>\n",
       "      <td>4664364.0</td>\n",
       "      <td>NaN</td>\n",
       "      <td>NaN</td>\n",
       "    </tr>\n",
       "    <tr>\n",
       "      <th>2018</th>\n",
       "      <td>58083.0</td>\n",
       "      <td>8767492.0</td>\n",
       "      <td>NaN</td>\n",
       "      <td>NaN</td>\n",
       "    </tr>\n",
       "    <tr>\n",
       "      <th>2017</th>\n",
       "      <td>71499.0</td>\n",
       "      <td>10026086.0</td>\n",
       "      <td>NaN</td>\n",
       "      <td>NaN</td>\n",
       "    </tr>\n",
       "    <tr>\n",
       "      <th>2016</th>\n",
       "      <td>67743.0</td>\n",
       "      <td>5509995.0</td>\n",
       "      <td>NaN</td>\n",
       "      <td>NaN</td>\n",
       "    </tr>\n",
       "    <tr>\n",
       "      <th>2015</th>\n",
       "      <td>68151.0</td>\n",
       "      <td>10125149.0</td>\n",
       "      <td>63190.6</td>\n",
       "      <td>7818617.2</td>\n",
       "    </tr>\n",
       "  </tbody>\n",
       "</table>\n",
       "</div>"
      ],
      "text/plain": [
       "        Fires       Acres       ma        ma2\n",
       "Year                                         \n",
       "2019  50477.0   4664364.0      NaN        NaN\n",
       "2018  58083.0   8767492.0      NaN        NaN\n",
       "2017  71499.0  10026086.0      NaN        NaN\n",
       "2016  67743.0   5509995.0      NaN        NaN\n",
       "2015  68151.0  10125149.0  63190.6  7818617.2"
      ]
     },
     "execution_count": 32,
     "metadata": {},
     "output_type": "execute_result"
    }
   ],
   "source": [
    "data.head()"
   ]
  },
  {
   "cell_type": "raw",
   "id": "41a36857-83c9-4aee-b185-bdda48d33256",
   "metadata": {},
   "source": [
    " Develop the relation plot for Number of Fires and Acres Burned in US in years 1987 to 2019."
   ]
  },
  {
   "cell_type": "code",
   "execution_count": 35,
   "id": "eac63901-f150-41f6-b9d4-540abd86f8b8",
   "metadata": {},
   "outputs": [],
   "source": [
    "df2= df[(df['Year'] >= 1987) & (df['Year'] <= 2019)]"
   ]
  },
  {
   "cell_type": "code",
   "execution_count": 45,
   "id": "91db0bb1-1982-42a3-aafd-994f535a6385",
   "metadata": {},
   "outputs": [
    {
     "data": {
      "text/plain": [
       "Text(0.5, 1.0, 'fire and acres in years 1987 to 2010')"
      ]
     },
     "execution_count": 45,
     "metadata": {},
     "output_type": "execute_result"
    },
    {
     "data": {
      "image/png": "[encoded data removed]",
      "text/plain": [
       "<Figure size 432x288 with 1 Axes>"
      ]
     },
     "metadata": {
      "needs_background": "light"
     },
     "output_type": "display_data"
    }
   ],
   "source": [
    "x_val=df2['Year']\n",
    "x_range=np.arange(len(x_val))\n",
    "width=.6\n",
    "y_value=df2['Fires']*100\n",
    "plt.bar(x_range+width,y_value,width=width,label='fire',color='red')\n",
    "y_value_2=df2['Acres']\n",
    "plt.bar(x_range,y_value_2,width=width,label='acres',color='blue')\n",
    "plt.title('fire and acres in years 1987 to 2010')"
   ]
  },
  {
   "cell_type": "code",
   "execution_count": 39,
   "id": "9459a703-6c7e-4c83-8920-5bab3e28172a",
   "metadata": {},
   "outputs": [
    {
     "data": {
      "text/plain": [
       "Text(0.5, 1.0, 'relation plot ')"
      ]
     },
     "execution_count": 39,
     "metadata": {},
     "output_type": "execute_result"
    },
    {
     "data": {
      "image/png": "[encoded data removed]",
      "text/plain": [
       "<Figure size 432x288 with 1 Axes>"
      ]
     },
     "metadata": {
      "needs_background": "light"
     },
     "output_type": "display_data"
    }
   ],
   "source": [
    "plt.plot(df2['Fires'],df2['Acres'],color='red')\n",
    "plt.title('relation plot ')"
   ]
  },
  {
   "cell_type": "raw",
   "id": "a2f86b91-2973-40e5-bef4-42126ea303be",
   "metadata": {},
   "source": [
    " Find the employee name and his/her kids name of employee/employees who works on project payment managemnet from the department Computer."
   ]
  },
  {
   "cell_type": "code",
   "execution_count": 40,
   "id": "a29f3504-56d3-4453-b4cd-d47ac8eb6172",
   "metadata": {},
   "outputs": [],
   "source": [
    "person=[{'pno':'d543','pname':'alae','bdate':'15/03/1987','adress':'residence  sina appt 3','dno':1,'pnosud':'g234'},\n",
    "       {'pno':'e234','pname':'fouad','bdate':'3/01/1987','adress':'rahan imm 4appt 5','dno':2,'pnosud':'d543'},\n",
    "       {'pno':'g234','pname':'azar','bdate':'24/04/1984','adress':'residence  sina appt 3','dno':1,'pnosud':'NULL'},\n",
    "       {'pno':'f552','pname':'jean','bdate':'28/05/1975','adress':'residence  sina appt 3','dno':3,'pnosud':'d543',}]\n",
    "proj=[{'prno':1,'pname':'payment management','des':'integration'},\n",
    "     {'prno':2,'pname':'tramway','des':'realization'}]\n",
    "workon = [{'pno':\"d543\",'prno':1},\n",
    "          {'pno':\"f552\",'prno':2},\n",
    "          {'pno':\"e234\",'prno':1}\n",
    "         ]\n",
    "dept=[{'dno':1,'dname':'computer'},\n",
    "     {'dno':2,'dname':'commercial'},\n",
    "     {'dno':3,'dname':'after-sales service'}]\n",
    "\n",
    "emplo=[{'pno':'d543','salary':5000,'grade':'engineer'},\n",
    "      {'pno':'g234','salary':12000,'grade':'director'},\n",
    "      {'pno':'f552','salary':7000,'grade':'commercial'}]\n",
    "\n",
    "kids=[{'kno':34,'kname':'badr','sex':'m','pno':'d543'},\n",
    "     {'kno':23,'kname':'sarah','sex':'f','pno':'d543'},\n",
    "     {'kno':21,'kname':'jeff','sex':'m','pno':'g234'}\n",
    "     ]\n",
    "trainee=[{'pno':'e234','level':'master','type':'hiring'}]"
   ]
  },
  {
   "cell_type": "code",
   "execution_count": 41,
   "id": "cf64bc95-406e-4375-bca5-861491e48e3e",
   "metadata": {},
   "outputs": [],
   "source": [
    "person=pd.DataFrame(person)\n",
    "proj=pd.DataFrame(proj)\n",
    "workon=pd.DataFrame(workon)\n",
    "dept=pd.DataFrame(dept)\n",
    "emplo=pd.DataFrame(emplo)\n",
    "kids=pd.DataFrame(kids)\n",
    "trainee=pd.DataFrame(trainee)"
   ]
  },
  {
   "cell_type": "code",
   "execution_count": 42,
   "id": "8d69aa96-b03f-47e2-a6e6-123ab3f2e232",
   "metadata": {},
   "outputs": [],
   "source": [
    "new1=pd.merge(person,dept,on='dno')\n",
    "new1=new1.drop(['pnosud'], axis=1)"
   ]
  },
  {
   "cell_type": "code",
   "execution_count": 43,
   "id": "01068665-31df-4733-82f8-22d27b69e933",
   "metadata": {},
   "outputs": [
    {
     "data": {
      "text/html": [
       "<div>\n",
       "<style scoped>\n",
       "    .dataframe tbody tr th:only-of-type {\n",
       "        vertical-align: middle;\n",
       "    }\n",
       "\n",
       "    .dataframe tbody tr th {\n",
       "        vertical-align: top;\n",
       "    }\n",
       "\n",
       "    .dataframe thead th {\n",
       "        text-align: right;\n",
       "    }\n",
       "</style>\n",
       "<table border=\"1\" class=\"dataframe\">\n",
       "  <thead>\n",
       "    <tr style=\"text-align: right;\">\n",
       "      <th></th>\n",
       "      <th>pno</th>\n",
       "      <th>pname</th>\n",
       "      <th>bdate</th>\n",
       "      <th>adress</th>\n",
       "      <th>dno</th>\n",
       "      <th>dname</th>\n",
       "    </tr>\n",
       "  </thead>\n",
       "  <tbody>\n",
       "    <tr>\n",
       "      <th>0</th>\n",
       "      <td>d543</td>\n",
       "      <td>alae</td>\n",
       "      <td>15/03/1987</td>\n",
       "      <td>residence  sina appt 3</td>\n",
       "      <td>1</td>\n",
       "      <td>computer</td>\n",
       "    </tr>\n",
       "    <tr>\n",
       "      <th>1</th>\n",
       "      <td>g234</td>\n",
       "      <td>azar</td>\n",
       "      <td>24/04/1984</td>\n",
       "      <td>residence  sina appt 3</td>\n",
       "      <td>1</td>\n",
       "      <td>computer</td>\n",
       "    </tr>\n",
       "    <tr>\n",
       "      <th>2</th>\n",
       "      <td>e234</td>\n",
       "      <td>fouad</td>\n",
       "      <td>3/01/1987</td>\n",
       "      <td>rahan imm 4appt 5</td>\n",
       "      <td>2</td>\n",
       "      <td>commercial</td>\n",
       "    </tr>\n",
       "    <tr>\n",
       "      <th>3</th>\n",
       "      <td>f552</td>\n",
       "      <td>jean</td>\n",
       "      <td>28/05/1975</td>\n",
       "      <td>residence  sina appt 3</td>\n",
       "      <td>3</td>\n",
       "      <td>after-sales service</td>\n",
       "    </tr>\n",
       "  </tbody>\n",
       "</table>\n",
       "</div>"
      ],
      "text/plain": [
       "    pno  pname       bdate                  adress  dno                dname\n",
       "0  d543   alae  15/03/1987  residence  sina appt 3    1             computer\n",
       "1  g234   azar  24/04/1984  residence  sina appt 3    1             computer\n",
       "2  e234  fouad   3/01/1987       rahan imm 4appt 5    2           commercial\n",
       "3  f552   jean  28/05/1975  residence  sina appt 3    3  after-sales service"
      ]
     },
     "execution_count": 43,
     "metadata": {},
     "output_type": "execute_result"
    }
   ],
   "source": [
    "new1"
   ]
  },
  {
   "cell_type": "code",
   "execution_count": 112,
   "id": "34a979d1-e97a-4252-924c-01e561cf246a",
   "metadata": {},
   "outputs": [],
   "source": [
    "new2=pd.merge(workon,proj,on='prno')"
   ]
  },
  {
   "cell_type": "code",
   "execution_count": 113,
   "id": "0e87eefb-0094-42c9-be58-da8d2206b6cb",
   "metadata": {},
   "outputs": [
    {
     "data": {
      "text/html": [
       "<div>\n",
       "<style scoped>\n",
       "    .dataframe tbody tr th:only-of-type {\n",
       "        vertical-align: middle;\n",
       "    }\n",
       "\n",
       "    .dataframe tbody tr th {\n",
       "        vertical-align: top;\n",
       "    }\n",
       "\n",
       "    .dataframe thead th {\n",
       "        text-align: right;\n",
       "    }\n",
       "</style>\n",
       "<table border=\"1\" class=\"dataframe\">\n",
       "  <thead>\n",
       "    <tr style=\"text-align: right;\">\n",
       "      <th></th>\n",
       "      <th>pno</th>\n",
       "      <th>prno</th>\n",
       "      <th>pname</th>\n",
       "      <th>des</th>\n",
       "    </tr>\n",
       "  </thead>\n",
       "  <tbody>\n",
       "    <tr>\n",
       "      <th>0</th>\n",
       "      <td>d543</td>\n",
       "      <td>1</td>\n",
       "      <td>payment management</td>\n",
       "      <td>integration</td>\n",
       "    </tr>\n",
       "    <tr>\n",
       "      <th>1</th>\n",
       "      <td>e234</td>\n",
       "      <td>1</td>\n",
       "      <td>payment management</td>\n",
       "      <td>integration</td>\n",
       "    </tr>\n",
       "    <tr>\n",
       "      <th>2</th>\n",
       "      <td>f552</td>\n",
       "      <td>2</td>\n",
       "      <td>tramway</td>\n",
       "      <td>realization</td>\n",
       "    </tr>\n",
       "  </tbody>\n",
       "</table>\n",
       "</div>"
      ],
      "text/plain": [
       "    pno  prno               pname          des\n",
       "0  d543     1  payment management  integration\n",
       "1  e234     1  payment management  integration\n",
       "2  f552     2             tramway  realization"
      ]
     },
     "execution_count": 113,
     "metadata": {},
     "output_type": "execute_result"
    }
   ],
   "source": [
    "new2"
   ]
  },
  {
   "cell_type": "code",
   "execution_count": null,
   "id": "ec6a762a-95e6-4bb8-8718-842aa352c1f7",
   "metadata": {},
   "outputs": [],
   "source": [
    "new3=pd.merge(new1,new2,on='pno')"
   ]
  },
  {
   "cell_type": "code",
   "execution_count": 115,
   "id": "4e6be0f7-a95d-43de-804b-d0d5043cd33d",
   "metadata": {},
   "outputs": [
    {
     "data": {
      "text/html": [
       "<div>\n",
       "<style scoped>\n",
       "    .dataframe tbody tr th:only-of-type {\n",
       "        vertical-align: middle;\n",
       "    }\n",
       "\n",
       "    .dataframe tbody tr th {\n",
       "        vertical-align: top;\n",
       "    }\n",
       "\n",
       "    .dataframe thead th {\n",
       "        text-align: right;\n",
       "    }\n",
       "</style>\n",
       "<table border=\"1\" class=\"dataframe\">\n",
       "  <thead>\n",
       "    <tr style=\"text-align: right;\">\n",
       "      <th></th>\n",
       "      <th>pno</th>\n",
       "      <th>pname_x</th>\n",
       "      <th>bdate</th>\n",
       "      <th>adress</th>\n",
       "      <th>dno</th>\n",
       "      <th>dname</th>\n",
       "      <th>prno</th>\n",
       "      <th>pname_y</th>\n",
       "      <th>des</th>\n",
       "    </tr>\n",
       "  </thead>\n",
       "  <tbody>\n",
       "    <tr>\n",
       "      <th>0</th>\n",
       "      <td>d543</td>\n",
       "      <td>alae</td>\n",
       "      <td>15/03/1987</td>\n",
       "      <td>residence  sina appt 3</td>\n",
       "      <td>1</td>\n",
       "      <td>computer</td>\n",
       "      <td>1</td>\n",
       "      <td>payment management</td>\n",
       "      <td>integration</td>\n",
       "    </tr>\n",
       "    <tr>\n",
       "      <th>1</th>\n",
       "      <td>e234</td>\n",
       "      <td>fouad</td>\n",
       "      <td>3/01/1987</td>\n",
       "      <td>rahan imm 4appt 5</td>\n",
       "      <td>2</td>\n",
       "      <td>commercial</td>\n",
       "      <td>1</td>\n",
       "      <td>payment management</td>\n",
       "      <td>integration</td>\n",
       "    </tr>\n",
       "    <tr>\n",
       "      <th>2</th>\n",
       "      <td>f552</td>\n",
       "      <td>jean</td>\n",
       "      <td>28/05/1975</td>\n",
       "      <td>residence  sina appt 3</td>\n",
       "      <td>3</td>\n",
       "      <td>after-sales service</td>\n",
       "      <td>2</td>\n",
       "      <td>tramway</td>\n",
       "      <td>realization</td>\n",
       "    </tr>\n",
       "  </tbody>\n",
       "</table>\n",
       "</div>"
      ],
      "text/plain": [
       "    pno pname_x       bdate                  adress  dno                dname  \\\n",
       "0  d543    alae  15/03/1987  residence  sina appt 3    1             computer   \n",
       "1  e234   fouad   3/01/1987       rahan imm 4appt 5    2           commercial   \n",
       "2  f552    jean  28/05/1975  residence  sina appt 3    3  after-sales service   \n",
       "\n",
       "   prno             pname_y          des  \n",
       "0     1  payment management  integration  \n",
       "1     1  payment management  integration  \n",
       "2     2             tramway  realization  "
      ]
     },
     "execution_count": 115,
     "metadata": {},
     "output_type": "execute_result"
    }
   ],
   "source": [
    "new3"
   ]
  },
  {
   "cell_type": "code",
   "execution_count": 116,
   "id": "24721051-abf3-470f-9e08-d061e577b3ac",
   "metadata": {},
   "outputs": [],
   "source": [
    "new3=pd.merge(new3,kids,on='pno')"
   ]
  },
  {
   "cell_type": "code",
   "execution_count": 122,
   "id": "b6b1ff6b-4d49-4c4e-ab84-bda97ad0704e",
   "metadata": {},
   "outputs": [
    {
     "data": {
      "text/html": [
       "<div>\n",
       "<style scoped>\n",
       "    .dataframe tbody tr th:only-of-type {\n",
       "        vertical-align: middle;\n",
       "    }\n",
       "\n",
       "    .dataframe tbody tr th {\n",
       "        vertical-align: top;\n",
       "    }\n",
       "\n",
       "    .dataframe thead th {\n",
       "        text-align: right;\n",
       "    }\n",
       "</style>\n",
       "<table border=\"1\" class=\"dataframe\">\n",
       "  <thead>\n",
       "    <tr style=\"text-align: right;\">\n",
       "      <th></th>\n",
       "      <th>pname_x</th>\n",
       "      <th>kname</th>\n",
       "    </tr>\n",
       "  </thead>\n",
       "  <tbody>\n",
       "    <tr>\n",
       "      <th>0</th>\n",
       "      <td>alae</td>\n",
       "      <td>badr</td>\n",
       "    </tr>\n",
       "    <tr>\n",
       "      <th>1</th>\n",
       "      <td>alae</td>\n",
       "      <td>sarah</td>\n",
       "    </tr>\n",
       "  </tbody>\n",
       "</table>\n",
       "</div>"
      ],
      "text/plain": [
       "  pname_x  kname\n",
       "0    alae   badr\n",
       "1    alae  sarah"
      ]
     },
     "execution_count": 122,
     "metadata": {},
     "output_type": "execute_result"
    }
   ],
   "source": [
    "new3[['pname_x','kname']]  "
   ]
  },
  {
   "cell_type": "markdown",
   "id": "9c41ecec-0c46-4ec9-a57b-f14caafef3a9",
   "metadata": {},
   "source": [
    "List the details of employees working on each projects."
   ]
  },
  {
   "cell_type": "code",
   "execution_count": 123,
   "id": "1bbe4456-e76e-4650-a4e7-f10cbb0b69cd",
   "metadata": {},
   "outputs": [
    {
     "data": {
      "text/html": [
       "<div>\n",
       "<style scoped>\n",
       "    .dataframe tbody tr th:only-of-type {\n",
       "        vertical-align: middle;\n",
       "    }\n",
       "\n",
       "    .dataframe tbody tr th {\n",
       "        vertical-align: top;\n",
       "    }\n",
       "\n",
       "    .dataframe thead th {\n",
       "        text-align: right;\n",
       "    }\n",
       "</style>\n",
       "<table border=\"1\" class=\"dataframe\">\n",
       "  <thead>\n",
       "    <tr style=\"text-align: right;\">\n",
       "      <th></th>\n",
       "      <th>pno</th>\n",
       "      <th>prno</th>\n",
       "      <th>pname</th>\n",
       "      <th>des</th>\n",
       "    </tr>\n",
       "  </thead>\n",
       "  <tbody>\n",
       "    <tr>\n",
       "      <th>0</th>\n",
       "      <td>d543</td>\n",
       "      <td>1</td>\n",
       "      <td>payment management</td>\n",
       "      <td>integration</td>\n",
       "    </tr>\n",
       "    <tr>\n",
       "      <th>1</th>\n",
       "      <td>e234</td>\n",
       "      <td>1</td>\n",
       "      <td>payment management</td>\n",
       "      <td>integration</td>\n",
       "    </tr>\n",
       "    <tr>\n",
       "      <th>2</th>\n",
       "      <td>f552</td>\n",
       "      <td>2</td>\n",
       "      <td>tramway</td>\n",
       "      <td>realization</td>\n",
       "    </tr>\n",
       "  </tbody>\n",
       "</table>\n",
       "</div>"
      ],
      "text/plain": [
       "    pno  prno               pname          des\n",
       "0  d543     1  payment management  integration\n",
       "1  e234     1  payment management  integration\n",
       "2  f552     2             tramway  realization"
      ]
     },
     "execution_count": 123,
     "metadata": {},
     "output_type": "execute_result"
    }
   ],
   "source": [
    "new2"
   ]
  },
  {
   "cell_type": "code",
   "execution_count": 125,
   "id": "fe34d932-df17-4961-8b09-6c39ebf15129",
   "metadata": {},
   "outputs": [],
   "source": [
    "new4=pd.merge(person,new2,on='pno')"
   ]
  },
  {
   "cell_type": "code",
   "execution_count": null,
   "id": "8d666519-4b05-416e-96f2-87ed3a8ab863",
   "metadata": {},
   "outputs": [],
   "source": [
    "new4=new4.drop(['dno','prno'],axis=1)"
   ]
  },
  {
   "cell_type": "code",
   "execution_count": 145,
   "id": "9cd8d1d8-ffda-4a30-bd17-f1da8f1c0918",
   "metadata": {},
   "outputs": [
    {
     "data": {
      "text/plain": [
       "<pandas.core.groupby.generic.DataFrameGroupBy object at 0x00000105ACCC8FA0>"
      ]
     },
     "execution_count": 145,
     "metadata": {},
     "output_type": "execute_result"
    }
   ],
   "source": [
    "new4.groupby(by=['pname_y'])"
   ]
  },
  {
   "cell_type": "code",
   "execution_count": 146,
   "id": "7bdfdfa1-e823-457f-b4f1-6639fd776e1f",
   "metadata": {},
   "outputs": [
    {
     "name": "stdout",
     "output_type": "stream",
     "text": [
      "('payment management',     pno pname_x       bdate                  adress pnosud  \\\n",
      "0  d543    alae  15/03/1987  residence  sina appt 3   g234   \n",
      "1  e234   fouad   3/01/1987       rahan imm 4appt 5   d543   \n",
      "\n",
      "              pname_y          des  \n",
      "0  payment management  integration  \n",
      "1  payment management  integration  )\n",
      "-------------------------------------------\n",
      "('tramway',     pno pname_x       bdate                  adress pnosud  pname_y  \\\n",
      "2  f552    jean  28/05/1975  residence  sina appt 3   d543  tramway   \n",
      "\n",
      "           des  \n",
      "2  realization  )\n",
      "-------------------------------------------\n"
     ]
    }
   ],
   "source": [
    "for i in  gdata:\n",
    "    print(i)\n",
    "    print('-------------------------------------------')"
   ]
  },
  {
   "cell_type": "code",
   "execution_count": 138,
   "id": "5a6439ad-4c1f-4b74-9efd-ebbaf8da06f2",
   "metadata": {},
   "outputs": [
    {
     "data": {
      "text/html": [
       "<div>\n",
       "<style scoped>\n",
       "    .dataframe tbody tr th:only-of-type {\n",
       "        vertical-align: middle;\n",
       "    }\n",
       "\n",
       "    .dataframe tbody tr th {\n",
       "        vertical-align: top;\n",
       "    }\n",
       "\n",
       "    .dataframe thead th {\n",
       "        text-align: right;\n",
       "    }\n",
       "</style>\n",
       "<table border=\"1\" class=\"dataframe\">\n",
       "  <thead>\n",
       "    <tr style=\"text-align: right;\">\n",
       "      <th></th>\n",
       "      <th>pno</th>\n",
       "      <th>pname_x</th>\n",
       "      <th>bdate</th>\n",
       "      <th>adress</th>\n",
       "      <th>pnosud</th>\n",
       "      <th>pname_y</th>\n",
       "      <th>des</th>\n",
       "    </tr>\n",
       "  </thead>\n",
       "  <tbody>\n",
       "    <tr>\n",
       "      <th>0</th>\n",
       "      <td>d543</td>\n",
       "      <td>alae</td>\n",
       "      <td>15/03/1987</td>\n",
       "      <td>residence  sina appt 3</td>\n",
       "      <td>g234</td>\n",
       "      <td>payment management</td>\n",
       "      <td>integration</td>\n",
       "    </tr>\n",
       "    <tr>\n",
       "      <th>1</th>\n",
       "      <td>e234</td>\n",
       "      <td>fouad</td>\n",
       "      <td>3/01/1987</td>\n",
       "      <td>rahan imm 4appt 5</td>\n",
       "      <td>d543</td>\n",
       "      <td>payment management</td>\n",
       "      <td>integration</td>\n",
       "    </tr>\n",
       "    <tr>\n",
       "      <th>2</th>\n",
       "      <td>f552</td>\n",
       "      <td>jean</td>\n",
       "      <td>28/05/1975</td>\n",
       "      <td>residence  sina appt 3</td>\n",
       "      <td>d543</td>\n",
       "      <td>tramway</td>\n",
       "      <td>realization</td>\n",
       "    </tr>\n",
       "  </tbody>\n",
       "</table>\n",
       "</div>"
      ],
      "text/plain": [
       "    pno pname_x       bdate                  adress pnosud  \\\n",
       "0  d543    alae  15/03/1987  residence  sina appt 3   g234   \n",
       "1  e234   fouad   3/01/1987       rahan imm 4appt 5   d543   \n",
       "2  f552    jean  28/05/1975  residence  sina appt 3   d543   \n",
       "\n",
       "              pname_y          des  \n",
       "0  payment management  integration  \n",
       "1  payment management  integration  \n",
       "2             tramway  realization  "
      ]
     },
     "execution_count": 138,
     "metadata": {},
     "output_type": "execute_result"
    }
   ],
   "source": [
    "new4"
   ]
  },
  {
   "cell_type": "code",
   "execution_count": 142,
   "id": "0867aeed-65f3-49fb-bce5-e0450ddac249",
   "metadata": {},
   "outputs": [],
   "source": [
    "new4=new4.drop(['pnosud'],axis=1)"
   ]
  },
  {
   "cell_type": "code",
   "execution_count": 143,
   "id": "f9f2dc26-23a3-49a6-bd87-2f8b2839565e",
   "metadata": {},
   "outputs": [
    {
     "data": {
      "text/html": [
       "<div>\n",
       "<style scoped>\n",
       "    .dataframe tbody tr th:only-of-type {\n",
       "        vertical-align: middle;\n",
       "    }\n",
       "\n",
       "    .dataframe tbody tr th {\n",
       "        vertical-align: top;\n",
       "    }\n",
       "\n",
       "    .dataframe thead th {\n",
       "        text-align: right;\n",
       "    }\n",
       "</style>\n",
       "<table border=\"1\" class=\"dataframe\">\n",
       "  <thead>\n",
       "    <tr style=\"text-align: right;\">\n",
       "      <th></th>\n",
       "      <th>pno</th>\n",
       "      <th>pname_x</th>\n",
       "      <th>bdate</th>\n",
       "      <th>adress</th>\n",
       "      <th>pname_y</th>\n",
       "      <th>des</th>\n",
       "    </tr>\n",
       "  </thead>\n",
       "  <tbody>\n",
       "    <tr>\n",
       "      <th>0</th>\n",
       "      <td>d543</td>\n",
       "      <td>alae</td>\n",
       "      <td>15/03/1987</td>\n",
       "      <td>residence  sina appt 3</td>\n",
       "      <td>payment management</td>\n",
       "      <td>integration</td>\n",
       "    </tr>\n",
       "    <tr>\n",
       "      <th>1</th>\n",
       "      <td>e234</td>\n",
       "      <td>fouad</td>\n",
       "      <td>3/01/1987</td>\n",
       "      <td>rahan imm 4appt 5</td>\n",
       "      <td>payment management</td>\n",
       "      <td>integration</td>\n",
       "    </tr>\n",
       "    <tr>\n",
       "      <th>2</th>\n",
       "      <td>f552</td>\n",
       "      <td>jean</td>\n",
       "      <td>28/05/1975</td>\n",
       "      <td>residence  sina appt 3</td>\n",
       "      <td>tramway</td>\n",
       "      <td>realization</td>\n",
       "    </tr>\n",
       "  </tbody>\n",
       "</table>\n",
       "</div>"
      ],
      "text/plain": [
       "    pno pname_x       bdate                  adress             pname_y  \\\n",
       "0  d543    alae  15/03/1987  residence  sina appt 3  payment management   \n",
       "1  e234   fouad   3/01/1987       rahan imm 4appt 5  payment management   \n",
       "2  f552    jean  28/05/1975  residence  sina appt 3             tramway   \n",
       "\n",
       "           des  \n",
       "0  integration  \n",
       "1  integration  \n",
       "2  realization  "
      ]
     },
     "execution_count": 143,
     "metadata": {},
     "output_type": "execute_result"
    }
   ],
   "source": [
    "new4"
   ]
  },
  {
   "cell_type": "markdown",
   "id": "7c08d145-2939-4c07-808b-37d2879cc298",
   "metadata": {},
   "source": [
    "Identiify the grades of supervisors associated with each employees. Dispay the employee name along with supervisor and his/her grade."
   ]
  },
  {
   "cell_type": "code",
   "execution_count": 155,
   "id": "7791224b-1c92-4e55-b4d8-2424f137ae0d",
   "metadata": {},
   "outputs": [],
   "source": [
    "new5=pd.merge(emplo,person,on='pno')"
   ]
  },
  {
   "cell_type": "code",
   "execution_count": 156,
   "id": "f6368d79-748b-4c6d-b8a3-bfeb81e9b60c",
   "metadata": {},
   "outputs": [
    {
     "data": {
      "text/html": [
       "<div>\n",
       "<style scoped>\n",
       "    .dataframe tbody tr th:only-of-type {\n",
       "        vertical-align: middle;\n",
       "    }\n",
       "\n",
       "    .dataframe tbody tr th {\n",
       "        vertical-align: top;\n",
       "    }\n",
       "\n",
       "    .dataframe thead th {\n",
       "        text-align: right;\n",
       "    }\n",
       "</style>\n",
       "<table border=\"1\" class=\"dataframe\">\n",
       "  <thead>\n",
       "    <tr style=\"text-align: right;\">\n",
       "      <th></th>\n",
       "      <th>pno</th>\n",
       "      <th>salary</th>\n",
       "      <th>grade</th>\n",
       "      <th>pname</th>\n",
       "      <th>bdate</th>\n",
       "      <th>adress</th>\n",
       "      <th>dno</th>\n",
       "      <th>pnosud</th>\n",
       "    </tr>\n",
       "  </thead>\n",
       "  <tbody>\n",
       "    <tr>\n",
       "      <th>0</th>\n",
       "      <td>d543</td>\n",
       "      <td>5000</td>\n",
       "      <td>engineer</td>\n",
       "      <td>alae</td>\n",
       "      <td>15/03/1987</td>\n",
       "      <td>residence  sina appt 3</td>\n",
       "      <td>1</td>\n",
       "      <td>g234</td>\n",
       "    </tr>\n",
       "    <tr>\n",
       "      <th>1</th>\n",
       "      <td>g234</td>\n",
       "      <td>12000</td>\n",
       "      <td>director</td>\n",
       "      <td>azar</td>\n",
       "      <td>24/04/1984</td>\n",
       "      <td>residence  sina appt 3</td>\n",
       "      <td>1</td>\n",
       "      <td>NULL</td>\n",
       "    </tr>\n",
       "    <tr>\n",
       "      <th>2</th>\n",
       "      <td>f552</td>\n",
       "      <td>7000</td>\n",
       "      <td>commercial</td>\n",
       "      <td>jean</td>\n",
       "      <td>28/05/1975</td>\n",
       "      <td>residence  sina appt 3</td>\n",
       "      <td>3</td>\n",
       "      <td>d543</td>\n",
       "    </tr>\n",
       "  </tbody>\n",
       "</table>\n",
       "</div>"
      ],
      "text/plain": [
       "    pno  salary       grade pname       bdate                  adress  dno  \\\n",
       "0  d543    5000    engineer  alae  15/03/1987  residence  sina appt 3    1   \n",
       "1  g234   12000    director  azar  24/04/1984  residence  sina appt 3    1   \n",
       "2  f552    7000  commercial  jean  28/05/1975  residence  sina appt 3    3   \n",
       "\n",
       "  pnosud  \n",
       "0   g234  \n",
       "1   NULL  \n",
       "2   d543  "
      ]
     },
     "execution_count": 156,
     "metadata": {},
     "output_type": "execute_result"
    }
   ],
   "source": [
    "new5"
   ]
  },
  {
   "cell_type": "code",
   "execution_count": 157,
   "id": "2e220bca-aaa7-43ca-b82d-cd692ae18d5f",
   "metadata": {},
   "outputs": [],
   "source": [
    "new5=pd.merge(person,emplo,on='pno')"
   ]
  },
  {
   "cell_type": "code",
   "execution_count": 163,
   "id": "00cb612b-a04e-423c-9834-91ccc7fe7f96",
   "metadata": {},
   "outputs": [
    {
     "data": {
      "text/plain": [
       "array(['g234', 'd543', 'NULL'], dtype=object)"
      ]
     },
     "execution_count": 163,
     "metadata": {},
     "output_type": "execute_result"
    }
   ],
   "source": [
    "person['pnosud'].unique()"
   ]
  },
  {
   "cell_type": "code",
   "execution_count": 219,
   "id": "de946081-6df6-45a0-adf9-0a72d9960847",
   "metadata": {},
   "outputs": [],
   "source": [
    "newone=person.drop(['bdate',\t'adress',\t'dno','pnosud'],axis=1)"
   ]
  },
  {
   "cell_type": "code",
   "execution_count": 220,
   "id": "55aeae34-c08f-41f9-a2d4-e2aa8ab9c313",
   "metadata": {},
   "outputs": [
    {
     "data": {
      "text/html": [
       "<div>\n",
       "<style scoped>\n",
       "    .dataframe tbody tr th:only-of-type {\n",
       "        vertical-align: middle;\n",
       "    }\n",
       "\n",
       "    .dataframe tbody tr th {\n",
       "        vertical-align: top;\n",
       "    }\n",
       "\n",
       "    .dataframe thead th {\n",
       "        text-align: right;\n",
       "    }\n",
       "</style>\n",
       "<table border=\"1\" class=\"dataframe\">\n",
       "  <thead>\n",
       "    <tr style=\"text-align: right;\">\n",
       "      <th></th>\n",
       "      <th>pno</th>\n",
       "      <th>pname</th>\n",
       "    </tr>\n",
       "  </thead>\n",
       "  <tbody>\n",
       "    <tr>\n",
       "      <th>0</th>\n",
       "      <td>d543</td>\n",
       "      <td>alae</td>\n",
       "    </tr>\n",
       "    <tr>\n",
       "      <th>1</th>\n",
       "      <td>e234</td>\n",
       "      <td>fouad</td>\n",
       "    </tr>\n",
       "    <tr>\n",
       "      <th>2</th>\n",
       "      <td>g234</td>\n",
       "      <td>azar</td>\n",
       "    </tr>\n",
       "    <tr>\n",
       "      <th>3</th>\n",
       "      <td>f552</td>\n",
       "      <td>jean</td>\n",
       "    </tr>\n",
       "  </tbody>\n",
       "</table>\n",
       "</div>"
      ],
      "text/plain": [
       "    pno  pname\n",
       "0  d543   alae\n",
       "1  e234  fouad\n",
       "2  g234   azar\n",
       "3  f552   jean"
      ]
     },
     "execution_count": 220,
     "metadata": {},
     "output_type": "execute_result"
    }
   ],
   "source": [
    "newone"
   ]
  },
  {
   "cell_type": "code",
   "execution_count": 222,
   "id": "e1207d31-2e25-421e-86c4-8cdf9a0d6325",
   "metadata": {},
   "outputs": [],
   "source": [
    "newone=newone.rename(columns={'pno':'pnosud'})"
   ]
  },
  {
   "cell_type": "code",
   "execution_count": 223,
   "id": "116aef1a-6343-4610-960e-d11a0ae0d8c6",
   "metadata": {},
   "outputs": [],
   "source": [
    "sup=pd.merge(person,newone,on='pnosud')"
   ]
  },
  {
   "cell_type": "code",
   "execution_count": 224,
   "id": "51b17fbd-a69f-4c4f-b501-1f8620891c9f",
   "metadata": {},
   "outputs": [
    {
     "data": {
      "text/html": [
       "<div>\n",
       "<style scoped>\n",
       "    .dataframe tbody tr th:only-of-type {\n",
       "        vertical-align: middle;\n",
       "    }\n",
       "\n",
       "    .dataframe tbody tr th {\n",
       "        vertical-align: top;\n",
       "    }\n",
       "\n",
       "    .dataframe thead th {\n",
       "        text-align: right;\n",
       "    }\n",
       "</style>\n",
       "<table border=\"1\" class=\"dataframe\">\n",
       "  <thead>\n",
       "    <tr style=\"text-align: right;\">\n",
       "      <th></th>\n",
       "      <th>pno</th>\n",
       "      <th>pname_x</th>\n",
       "      <th>bdate</th>\n",
       "      <th>adress</th>\n",
       "      <th>dno</th>\n",
       "      <th>pnosud</th>\n",
       "      <th>pname_y</th>\n",
       "    </tr>\n",
       "  </thead>\n",
       "  <tbody>\n",
       "    <tr>\n",
       "      <th>0</th>\n",
       "      <td>d543</td>\n",
       "      <td>alae</td>\n",
       "      <td>15/03/1987</td>\n",
       "      <td>residence  sina appt 3</td>\n",
       "      <td>1</td>\n",
       "      <td>g234</td>\n",
       "      <td>azar</td>\n",
       "    </tr>\n",
       "    <tr>\n",
       "      <th>1</th>\n",
       "      <td>e234</td>\n",
       "      <td>fouad</td>\n",
       "      <td>3/01/1987</td>\n",
       "      <td>rahan imm 4appt 5</td>\n",
       "      <td>2</td>\n",
       "      <td>d543</td>\n",
       "      <td>alae</td>\n",
       "    </tr>\n",
       "    <tr>\n",
       "      <th>2</th>\n",
       "      <td>f552</td>\n",
       "      <td>jean</td>\n",
       "      <td>28/05/1975</td>\n",
       "      <td>residence  sina appt 3</td>\n",
       "      <td>3</td>\n",
       "      <td>d543</td>\n",
       "      <td>alae</td>\n",
       "    </tr>\n",
       "  </tbody>\n",
       "</table>\n",
       "</div>"
      ],
      "text/plain": [
       "    pno pname_x       bdate                  adress  dno pnosud pname_y\n",
       "0  d543    alae  15/03/1987  residence  sina appt 3    1   g234    azar\n",
       "1  e234   fouad   3/01/1987       rahan imm 4appt 5    2   d543    alae\n",
       "2  f552    jean  28/05/1975  residence  sina appt 3    3   d543    alae"
      ]
     },
     "execution_count": 224,
     "metadata": {},
     "output_type": "execute_result"
    }
   ],
   "source": [
    "sup"
   ]
  },
  {
   "cell_type": "code",
   "execution_count": 226,
   "id": "1dfcddeb-b722-478e-afca-0a7509622e18",
   "metadata": {},
   "outputs": [],
   "source": [
    "sup=sup.rename(columns={'pname_x':'employee','pname_y':'super_visor'})"
   ]
  },
  {
   "cell_type": "code",
   "execution_count": 227,
   "id": "396f89be-ca13-4623-90cd-98b18c3da41f",
   "metadata": {},
   "outputs": [],
   "source": [
    "newone=pd.merge(sup,emplo,on='pno')"
   ]
  },
  {
   "cell_type": "code",
   "execution_count": 228,
   "id": "a8ee1bcd-5553-44c6-96af-fdeb5256fbdf",
   "metadata": {},
   "outputs": [
    {
     "data": {
      "text/html": [
       "<div>\n",
       "<style scoped>\n",
       "    .dataframe tbody tr th:only-of-type {\n",
       "        vertical-align: middle;\n",
       "    }\n",
       "\n",
       "    .dataframe tbody tr th {\n",
       "        vertical-align: top;\n",
       "    }\n",
       "\n",
       "    .dataframe thead th {\n",
       "        text-align: right;\n",
       "    }\n",
       "</style>\n",
       "<table border=\"1\" class=\"dataframe\">\n",
       "  <thead>\n",
       "    <tr style=\"text-align: right;\">\n",
       "      <th></th>\n",
       "      <th>pno</th>\n",
       "      <th>employee</th>\n",
       "      <th>bdate</th>\n",
       "      <th>adress</th>\n",
       "      <th>dno</th>\n",
       "      <th>pnosud</th>\n",
       "      <th>super_visor</th>\n",
       "      <th>salary</th>\n",
       "      <th>grade</th>\n",
       "    </tr>\n",
       "  </thead>\n",
       "  <tbody>\n",
       "    <tr>\n",
       "      <th>0</th>\n",
       "      <td>d543</td>\n",
       "      <td>alae</td>\n",
       "      <td>15/03/1987</td>\n",
       "      <td>residence  sina appt 3</td>\n",
       "      <td>1</td>\n",
       "      <td>g234</td>\n",
       "      <td>azar</td>\n",
       "      <td>5000</td>\n",
       "      <td>engineer</td>\n",
       "    </tr>\n",
       "    <tr>\n",
       "      <th>1</th>\n",
       "      <td>f552</td>\n",
       "      <td>jean</td>\n",
       "      <td>28/05/1975</td>\n",
       "      <td>residence  sina appt 3</td>\n",
       "      <td>3</td>\n",
       "      <td>d543</td>\n",
       "      <td>alae</td>\n",
       "      <td>7000</td>\n",
       "      <td>commercial</td>\n",
       "    </tr>\n",
       "  </tbody>\n",
       "</table>\n",
       "</div>"
      ],
      "text/plain": [
       "    pno employee       bdate                  adress  dno pnosud super_visor  \\\n",
       "0  d543     alae  15/03/1987  residence  sina appt 3    1   g234        azar   \n",
       "1  f552     jean  28/05/1975  residence  sina appt 3    3   d543        alae   \n",
       "\n",
       "   salary       grade  \n",
       "0    5000    engineer  \n",
       "1    7000  commercial  "
      ]
     },
     "execution_count": 228,
     "metadata": {},
     "output_type": "execute_result"
    }
   ],
   "source": [
    "newone"
   ]
  },
  {
   "cell_type": "code",
   "execution_count": 229,
   "id": "80032f1a-9599-4122-b135-423c1f95c1a1",
   "metadata": {},
   "outputs": [
    {
     "data": {
      "text/html": [
       "<div>\n",
       "<style scoped>\n",
       "    .dataframe tbody tr th:only-of-type {\n",
       "        vertical-align: middle;\n",
       "    }\n",
       "\n",
       "    .dataframe tbody tr th {\n",
       "        vertical-align: top;\n",
       "    }\n",
       "\n",
       "    .dataframe thead th {\n",
       "        text-align: right;\n",
       "    }\n",
       "</style>\n",
       "<table border=\"1\" class=\"dataframe\">\n",
       "  <thead>\n",
       "    <tr style=\"text-align: right;\">\n",
       "      <th></th>\n",
       "      <th>pno</th>\n",
       "      <th>employee</th>\n",
       "      <th>bdate</th>\n",
       "      <th>adress</th>\n",
       "      <th>dno</th>\n",
       "      <th>pnosud</th>\n",
       "      <th>super_visor</th>\n",
       "    </tr>\n",
       "  </thead>\n",
       "  <tbody>\n",
       "    <tr>\n",
       "      <th>0</th>\n",
       "      <td>d543</td>\n",
       "      <td>alae</td>\n",
       "      <td>15/03/1987</td>\n",
       "      <td>residence  sina appt 3</td>\n",
       "      <td>1</td>\n",
       "      <td>g234</td>\n",
       "      <td>azar</td>\n",
       "    </tr>\n",
       "    <tr>\n",
       "      <th>1</th>\n",
       "      <td>e234</td>\n",
       "      <td>fouad</td>\n",
       "      <td>3/01/1987</td>\n",
       "      <td>rahan imm 4appt 5</td>\n",
       "      <td>2</td>\n",
       "      <td>d543</td>\n",
       "      <td>alae</td>\n",
       "    </tr>\n",
       "    <tr>\n",
       "      <th>2</th>\n",
       "      <td>f552</td>\n",
       "      <td>jean</td>\n",
       "      <td>28/05/1975</td>\n",
       "      <td>residence  sina appt 3</td>\n",
       "      <td>3</td>\n",
       "      <td>d543</td>\n",
       "      <td>alae</td>\n",
       "    </tr>\n",
       "  </tbody>\n",
       "</table>\n",
       "</div>"
      ],
      "text/plain": [
       "    pno employee       bdate                  adress  dno pnosud super_visor\n",
       "0  d543     alae  15/03/1987  residence  sina appt 3    1   g234        azar\n",
       "1  e234    fouad   3/01/1987       rahan imm 4appt 5    2   d543        alae\n",
       "2  f552     jean  28/05/1975  residence  sina appt 3    3   d543        alae"
      ]
     },
     "execution_count": 229,
     "metadata": {},
     "output_type": "execute_result"
    }
   ],
   "source": [
    "sup"
   ]
  },
  {
   "cell_type": "code",
   "execution_count": 230,
   "id": "d72a4a79-7834-4be4-b181-26549c0d3a1a",
   "metadata": {},
   "outputs": [],
   "source": [
    "nextone=emplo.drop(['salary'],axis=1)"
   ]
  },
  {
   "cell_type": "code",
   "execution_count": 232,
   "id": "5e46e3fd-ed05-4fb6-bcdf-7e5e1d6bb242",
   "metadata": {},
   "outputs": [],
   "source": [
    "nextone=nextone.rename(columns={'pno':'pnosud'})"
   ]
  },
  {
   "cell_type": "code",
   "execution_count": 233,
   "id": "aaa40598-f467-44de-99af-684b7351174b",
   "metadata": {},
   "outputs": [
    {
     "data": {
      "text/html": [
       "<div>\n",
       "<style scoped>\n",
       "    .dataframe tbody tr th:only-of-type {\n",
       "        vertical-align: middle;\n",
       "    }\n",
       "\n",
       "    .dataframe tbody tr th {\n",
       "        vertical-align: top;\n",
       "    }\n",
       "\n",
       "    .dataframe thead th {\n",
       "        text-align: right;\n",
       "    }\n",
       "</style>\n",
       "<table border=\"1\" class=\"dataframe\">\n",
       "  <thead>\n",
       "    <tr style=\"text-align: right;\">\n",
       "      <th></th>\n",
       "      <th>pnosud</th>\n",
       "      <th>grade</th>\n",
       "    </tr>\n",
       "  </thead>\n",
       "  <tbody>\n",
       "    <tr>\n",
       "      <th>0</th>\n",
       "      <td>d543</td>\n",
       "      <td>engineer</td>\n",
       "    </tr>\n",
       "    <tr>\n",
       "      <th>1</th>\n",
       "      <td>g234</td>\n",
       "      <td>director</td>\n",
       "    </tr>\n",
       "    <tr>\n",
       "      <th>2</th>\n",
       "      <td>f552</td>\n",
       "      <td>commercial</td>\n",
       "    </tr>\n",
       "  </tbody>\n",
       "</table>\n",
       "</div>"
      ],
      "text/plain": [
       "  pnosud       grade\n",
       "0   d543    engineer\n",
       "1   g234    director\n",
       "2   f552  commercial"
      ]
     },
     "execution_count": 233,
     "metadata": {},
     "output_type": "execute_result"
    }
   ],
   "source": [
    "nextone"
   ]
  },
  {
   "cell_type": "code",
   "execution_count": null,
   "id": "bed581ba-169b-4528-a14b-8e4a520788a8",
   "metadata": {},
   "outputs": [],
   "source": []
  },
  {
   "cell_type": "code",
   "execution_count": 235,
   "id": "2e1f0e43-7cb1-43cf-8960-ab027959d717",
   "metadata": {},
   "outputs": [],
   "source": [
    "nextone=pd.merge(sup,nextone,on='pnosud')"
   ]
  },
  {
   "cell_type": "code",
   "execution_count": 237,
   "id": "fa0e5ce9-2c82-4ebe-80f9-f6b7a18b6116",
   "metadata": {},
   "outputs": [
    {
     "data": {
      "text/html": [
       "<div>\n",
       "<style scoped>\n",
       "    .dataframe tbody tr th:only-of-type {\n",
       "        vertical-align: middle;\n",
       "    }\n",
       "\n",
       "    .dataframe tbody tr th {\n",
       "        vertical-align: top;\n",
       "    }\n",
       "\n",
       "    .dataframe thead th {\n",
       "        text-align: right;\n",
       "    }\n",
       "</style>\n",
       "<table border=\"1\" class=\"dataframe\">\n",
       "  <thead>\n",
       "    <tr style=\"text-align: right;\">\n",
       "      <th></th>\n",
       "      <th>super_visor</th>\n",
       "      <th>grade</th>\n",
       "      <th>employee</th>\n",
       "    </tr>\n",
       "  </thead>\n",
       "  <tbody>\n",
       "    <tr>\n",
       "      <th>0</th>\n",
       "      <td>azar</td>\n",
       "      <td>director</td>\n",
       "      <td>alae</td>\n",
       "    </tr>\n",
       "    <tr>\n",
       "      <th>1</th>\n",
       "      <td>alae</td>\n",
       "      <td>engineer</td>\n",
       "      <td>fouad</td>\n",
       "    </tr>\n",
       "    <tr>\n",
       "      <th>2</th>\n",
       "      <td>alae</td>\n",
       "      <td>engineer</td>\n",
       "      <td>jean</td>\n",
       "    </tr>\n",
       "  </tbody>\n",
       "</table>\n",
       "</div>"
      ],
      "text/plain": [
       "  super_visor     grade employee\n",
       "0        azar  director     alae\n",
       "1        alae  engineer    fouad\n",
       "2        alae  engineer     jean"
      ]
     },
     "execution_count": 237,
     "metadata": {},
     "output_type": "execute_result"
    }
   ],
   "source": [
    "nextone[['super_visor','grade','employee']]"
   ]
  },
  {
   "cell_type": "raw",
   "id": "40d20713-8c52-42ff-92ce-15b563e0223f",
   "metadata": {},
   "source": [
    "Familiarize yourself with the dataset, then write some python code which returns a line graph of the record high and record low temperatures by day of the year over the period 2005-2014. The area between the record high and record low temperatures for each day should be shaded.\n",
    " Overlay a scatter of the 2015 data for any points (highs and lows) for which the ten year record (2005-2014) record high or record low was broken in 2015.\n",
    " Watch out for leap days (i.e. February 29th), it is reasonable to remove these points from the dataset for the purpose of this visualization.\n",
    " Consider issues such as legends, labels, and chart junk.\n",
    " The data you have been given is near **Ann Arbor, Michigan, United States**, and visualize on map the stations the data.\n",
    " Plot Temperature Summary near Ann Arbor, Michigan, United States (Year 2015).\n",
    "\n"
   ]
  },
  {
   "cell_type": "code",
   "execution_count": 46,
   "id": "bf43b15d-bb1c-43c6-9100-e3a1cf65fa4e",
   "metadata": {},
   "outputs": [],
   "source": [
    "data2= pd.read_csv('BinSize.csv')"
   ]
  },
  {
   "cell_type": "code",
   "execution_count": 47,
   "id": "b66e9ea3-4b96-4feb-b88b-aea21dbeddbd",
   "metadata": {},
   "outputs": [
    {
     "data": {
      "text/html": [
       "<div>\n",
       "<style scoped>\n",
       "    .dataframe tbody tr th:only-of-type {\n",
       "        vertical-align: middle;\n",
       "    }\n",
       "\n",
       "    .dataframe tbody tr th {\n",
       "        vertical-align: top;\n",
       "    }\n",
       "\n",
       "    .dataframe thead th {\n",
       "        text-align: right;\n",
       "    }\n",
       "</style>\n",
       "<table border=\"1\" class=\"dataframe\">\n",
       "  <thead>\n",
       "    <tr style=\"text-align: right;\">\n",
       "      <th></th>\n",
       "      <th>ID</th>\n",
       "      <th>LATITUDE</th>\n",
       "      <th>LONGITUDE</th>\n",
       "      <th>ELEVATION</th>\n",
       "      <th>STATE</th>\n",
       "      <th>NAME</th>\n",
       "      <th>GSNFLAG</th>\n",
       "      <th>HCNFLAG</th>\n",
       "      <th>WMOID</th>\n",
       "      <th>x</th>\n",
       "      <th>y</th>\n",
       "      <th>x_group</th>\n",
       "      <th>y_group</th>\n",
       "      <th>xy_group</th>\n",
       "      <th>hash</th>\n",
       "    </tr>\n",
       "  </thead>\n",
       "  <tbody>\n",
       "    <tr>\n",
       "      <th>0</th>\n",
       "      <td>AE000041196</td>\n",
       "      <td>25.333</td>\n",
       "      <td>55.517</td>\n",
       "      <td>34.0</td>\n",
       "      <td>NaN</td>\n",
       "      <td>SHARJAH INTER. AIRP</td>\n",
       "      <td>GSN</td>\n",
       "      <td>NaN</td>\n",
       "      <td>41196.0</td>\n",
       "      <td>5.579578e+06</td>\n",
       "      <td>2.816905e+06</td>\n",
       "      <td>5497601.479782179 to 5594934.908498545</td>\n",
       "      <td>2772265.475723952 to 2869598.904440318</td>\n",
       "      <td>5497601.479782179 to 5594934.908498545, 277226...</td>\n",
       "      <td>1f6f0e89f4e937d934fe9acde2545e0d66bbcfe3b66320...</td>\n",
       "    </tr>\n",
       "    <tr>\n",
       "      <th>1</th>\n",
       "      <td>AEM00041194</td>\n",
       "      <td>25.255</td>\n",
       "      <td>55.364</td>\n",
       "      <td>10.4</td>\n",
       "      <td>NaN</td>\n",
       "      <td>DUBAI INTL</td>\n",
       "      <td>NaN</td>\n",
       "      <td>NaN</td>\n",
       "      <td>41194.0</td>\n",
       "      <td>5.567782e+06</td>\n",
       "      <td>2.808232e+06</td>\n",
       "      <td>5497601.479782179 to 5594934.908498545</td>\n",
       "      <td>2772265.475723952 to 2869598.904440318</td>\n",
       "      <td>5497601.479782179 to 5594934.908498545, 277226...</td>\n",
       "      <td>1f6f0e89f4e937d934fe9acde2545e0d66bbcfe3b66320...</td>\n",
       "    </tr>\n",
       "    <tr>\n",
       "      <th>2</th>\n",
       "      <td>AEM00041217</td>\n",
       "      <td>24.433</td>\n",
       "      <td>54.651</td>\n",
       "      <td>26.8</td>\n",
       "      <td>NaN</td>\n",
       "      <td>ABU DHABI INTL</td>\n",
       "      <td>NaN</td>\n",
       "      <td>NaN</td>\n",
       "      <td>41217.0</td>\n",
       "      <td>5.532707e+06</td>\n",
       "      <td>2.716829e+06</td>\n",
       "      <td>5497601.479782179 to 5594934.908498545</td>\n",
       "      <td>2674932.047007587 to 2772265.4757239525</td>\n",
       "      <td>5497601.479782179 to 5594934.908498545, 267493...</td>\n",
       "      <td>35c9093084d26708afc5b482ea15ba52e3f20fb7cd781f...</td>\n",
       "    </tr>\n",
       "    <tr>\n",
       "      <th>3</th>\n",
       "      <td>AEM00041218</td>\n",
       "      <td>24.262</td>\n",
       "      <td>55.609</td>\n",
       "      <td>264.9</td>\n",
       "      <td>NaN</td>\n",
       "      <td>AL AIN INTL</td>\n",
       "      <td>NaN</td>\n",
       "      <td>NaN</td>\n",
       "      <td>41218.0</td>\n",
       "      <td>5.637301e+06</td>\n",
       "      <td>2.697815e+06</td>\n",
       "      <td>5594934.908498544 to 5692268.33721491</td>\n",
       "      <td>2674932.047007587 to 2772265.4757239525</td>\n",
       "      <td>5594934.908498544 to 5692268.33721491, 2674932...</td>\n",
       "      <td>2a6a7edad90579049fd1b3c3a990e8a8be90cb1975118e...</td>\n",
       "    </tr>\n",
       "    <tr>\n",
       "      <th>4</th>\n",
       "      <td>AFM00040990</td>\n",
       "      <td>31.500</td>\n",
       "      <td>65.850</td>\n",
       "      <td>1010.0</td>\n",
       "      <td>NaN</td>\n",
       "      <td>KANDAHAR AIRPORT</td>\n",
       "      <td>NaN</td>\n",
       "      <td>NaN</td>\n",
       "      <td>40990.0</td>\n",
       "      <td>6.243199e+06</td>\n",
       "      <td>3.502645e+06</td>\n",
       "      <td>6178935.480796736 to 6276268.909513102</td>\n",
       "      <td>3453599.476738509 to 3550932.9054548745</td>\n",
       "      <td>6178935.480796736 to 6276268.909513102, 345359...</td>\n",
       "      <td>039e75bbef55baa3fecc0568dc3b245666a98b1bcba6b4...</td>\n",
       "    </tr>\n",
       "  </tbody>\n",
       "</table>\n",
       "</div>"
      ],
      "text/plain": [
       "            ID  LATITUDE  LONGITUDE  ELEVATION STATE                 NAME  \\\n",
       "0  AE000041196    25.333     55.517       34.0   NaN  SHARJAH INTER. AIRP   \n",
       "1  AEM00041194    25.255     55.364       10.4   NaN           DUBAI INTL   \n",
       "2  AEM00041217    24.433     54.651       26.8   NaN       ABU DHABI INTL   \n",
       "3  AEM00041218    24.262     55.609      264.9   NaN          AL AIN INTL   \n",
       "4  AFM00040990    31.500     65.850     1010.0   NaN     KANDAHAR AIRPORT   \n",
       "\n",
       "  GSNFLAG HCNFLAG    WMOID             x             y  \\\n",
       "0     GSN     NaN  41196.0  5.579578e+06  2.816905e+06   \n",
       "1     NaN     NaN  41194.0  5.567782e+06  2.808232e+06   \n",
       "2     NaN     NaN  41217.0  5.532707e+06  2.716829e+06   \n",
       "3     NaN     NaN  41218.0  5.637301e+06  2.697815e+06   \n",
       "4     NaN     NaN  40990.0  6.243199e+06  3.502645e+06   \n",
       "\n",
       "                                  x_group  \\\n",
       "0  5497601.479782179 to 5594934.908498545   \n",
       "1  5497601.479782179 to 5594934.908498545   \n",
       "2  5497601.479782179 to 5594934.908498545   \n",
       "3   5594934.908498544 to 5692268.33721491   \n",
       "4  6178935.480796736 to 6276268.909513102   \n",
       "\n",
       "                                   y_group  \\\n",
       "0   2772265.475723952 to 2869598.904440318   \n",
       "1   2772265.475723952 to 2869598.904440318   \n",
       "2  2674932.047007587 to 2772265.4757239525   \n",
       "3  2674932.047007587 to 2772265.4757239525   \n",
       "4  3453599.476738509 to 3550932.9054548745   \n",
       "\n",
       "                                            xy_group  \\\n",
       "0  5497601.479782179 to 5594934.908498545, 277226...   \n",
       "1  5497601.479782179 to 5594934.908498545, 277226...   \n",
       "2  5497601.479782179 to 5594934.908498545, 267493...   \n",
       "3  5594934.908498544 to 5692268.33721491, 2674932...   \n",
       "4  6178935.480796736 to 6276268.909513102, 345359...   \n",
       "\n",
       "                                                hash  \n",
       "0  1f6f0e89f4e937d934fe9acde2545e0d66bbcfe3b66320...  \n",
       "1  1f6f0e89f4e937d934fe9acde2545e0d66bbcfe3b66320...  \n",
       "2  35c9093084d26708afc5b482ea15ba52e3f20fb7cd781f...  \n",
       "3  2a6a7edad90579049fd1b3c3a990e8a8be90cb1975118e...  \n",
       "4  039e75bbef55baa3fecc0568dc3b245666a98b1bcba6b4...  "
      ]
     },
     "execution_count": 47,
     "metadata": {},
     "output_type": "execute_result"
    }
   ],
   "source": [
    "data2.head()"
   ]
  },
  {
   "cell_type": "code",
   "execution_count": 48,
   "id": "c772b718-11d3-4492-abf4-cde774862377",
   "metadata": {},
   "outputs": [
    {
     "data": {
      "text/plain": [
       "Index(['ID', 'LATITUDE', 'LONGITUDE', 'ELEVATION', 'STATE', 'NAME', 'GSNFLAG',\n",
       "       'HCNFLAG', 'WMOID', 'x', 'y', 'x_group', 'y_group', 'xy_group', 'hash'],\n",
       "      dtype='object')"
      ]
     },
     "execution_count": 48,
     "metadata": {},
     "output_type": "execute_result"
    }
   ],
   "source": [
    "data2.columns"
   ]
  },
  {
   "cell_type": "code",
   "execution_count": 49,
   "id": "129e14d6-894b-430f-8fff-c021e5598e04",
   "metadata": {},
   "outputs": [],
   "source": [
    "data3=pd.read_csv('temperature.csv')"
   ]
  },
  {
   "cell_type": "code",
   "execution_count": 50,
   "id": "ffd5a9d0-12fa-4c63-ae29-157aa2844287",
   "metadata": {},
   "outputs": [
    {
     "data": {
      "text/plain": [
       "Index(['ID', 'Date', 'Element', 'Data_Value'], dtype='object')"
      ]
     },
     "execution_count": 50,
     "metadata": {},
     "output_type": "execute_result"
    }
   ],
   "source": [
    "data3.columns"
   ]
  },
  {
   "cell_type": "code",
   "execution_count": 9,
   "id": "556a3d9f-dfc9-4422-b090-fc7b1e955c42",
   "metadata": {},
   "outputs": [
    {
     "data": {
      "text/plain": [
       "ID            object\n",
       "Date          object\n",
       "Element       object\n",
       "Data_Value     int64\n",
       "dtype: object"
      ]
     },
     "execution_count": 9,
     "metadata": {},
     "output_type": "execute_result"
    }
   ],
   "source": [
    "data3.dtypes"
   ]
  },
  {
   "cell_type": "code",
   "execution_count": 51,
   "id": "3961dd63-5bdb-4822-a740-48af9f00392f",
   "metadata": {},
   "outputs": [
    {
     "data": {
      "text/html": [
       "<div>\n",
       "<style scoped>\n",
       "    .dataframe tbody tr th:only-of-type {\n",
       "        vertical-align: middle;\n",
       "    }\n",
       "\n",
       "    .dataframe tbody tr th {\n",
       "        vertical-align: top;\n",
       "    }\n",
       "\n",
       "    .dataframe thead th {\n",
       "        text-align: right;\n",
       "    }\n",
       "</style>\n",
       "<table border=\"1\" class=\"dataframe\">\n",
       "  <thead>\n",
       "    <tr style=\"text-align: right;\">\n",
       "      <th></th>\n",
       "      <th>ID</th>\n",
       "      <th>Date</th>\n",
       "      <th>Element</th>\n",
       "      <th>Data_Value</th>\n",
       "    </tr>\n",
       "  </thead>\n",
       "  <tbody>\n",
       "    <tr>\n",
       "      <th>0</th>\n",
       "      <td>USW00094889</td>\n",
       "      <td>2014-11-12</td>\n",
       "      <td>TMAX</td>\n",
       "      <td>22</td>\n",
       "    </tr>\n",
       "    <tr>\n",
       "      <th>1</th>\n",
       "      <td>USC00208972</td>\n",
       "      <td>2009-04-29</td>\n",
       "      <td>TMIN</td>\n",
       "      <td>56</td>\n",
       "    </tr>\n",
       "    <tr>\n",
       "      <th>2</th>\n",
       "      <td>USC00200032</td>\n",
       "      <td>2008-05-26</td>\n",
       "      <td>TMAX</td>\n",
       "      <td>278</td>\n",
       "    </tr>\n",
       "    <tr>\n",
       "      <th>3</th>\n",
       "      <td>USC00205563</td>\n",
       "      <td>2005-11-11</td>\n",
       "      <td>TMAX</td>\n",
       "      <td>139</td>\n",
       "    </tr>\n",
       "    <tr>\n",
       "      <th>4</th>\n",
       "      <td>USC00200230</td>\n",
       "      <td>2014-02-27</td>\n",
       "      <td>TMAX</td>\n",
       "      <td>-106</td>\n",
       "    </tr>\n",
       "  </tbody>\n",
       "</table>\n",
       "</div>"
      ],
      "text/plain": [
       "            ID        Date Element  Data_Value\n",
       "0  USW00094889  2014-11-12    TMAX          22\n",
       "1  USC00208972  2009-04-29    TMIN          56\n",
       "2  USC00200032  2008-05-26    TMAX         278\n",
       "3  USC00205563  2005-11-11    TMAX         139\n",
       "4  USC00200230  2014-02-27    TMAX        -106"
      ]
     },
     "execution_count": 51,
     "metadata": {},
     "output_type": "execute_result"
    }
   ],
   "source": [
    "data3.head()"
   ]
  },
  {
   "cell_type": "code",
   "execution_count": 17,
   "id": "35e0a0d9-ee4e-45fa-9b58-9805cbded358",
   "metadata": {},
   "outputs": [],
   "source": [
    "n = data3.nunique(axis=0)"
   ]
  },
  {
   "cell_type": "code",
   "execution_count": 18,
   "id": "0cf08b99-6700-4d22-b74a-121ddc3f45c0",
   "metadata": {},
   "outputs": [
    {
     "data": {
      "text/plain": [
       "ID              24\n",
       "Date          4017\n",
       "Element          2\n",
       "Data_Value     185\n",
       "dtype: int64"
      ]
     },
     "execution_count": 18,
     "metadata": {},
     "output_type": "execute_result"
    }
   ],
   "source": [
    "n"
   ]
  },
  {
   "cell_type": "code",
   "execution_count": 22,
   "id": "79d3763a-3004-4e7b-83af-dc519dd2b89d",
   "metadata": {},
   "outputs": [
    {
     "data": {
      "text/plain": [
       "ID            0\n",
       "Date          0\n",
       "Element       0\n",
       "Data_Value    0\n",
       "dtype: int64"
      ]
     },
     "execution_count": 22,
     "metadata": {},
     "output_type": "execute_result"
    }
   ],
   "source": [
    "data3.isna().sum()"
   ]
  },
  {
   "cell_type": "code",
   "execution_count": 24,
   "id": "e88178d7-3afe-467f-8890-eff68cff2b5b",
   "metadata": {},
   "outputs": [
    {
     "data": {
      "text/plain": [
       "2011-12-07    46\n",
       "2011-08-04    46\n",
       "2010-08-11    46\n",
       "2011-07-01    46\n",
       "2011-11-30    46\n",
       "              ..\n",
       "2014-02-10    29\n",
       "2014-02-09    28\n",
       "2014-02-08    28\n",
       "2014-05-25    27\n",
       "2014-05-11    26\n",
       "Name: Date, Length: 4017, dtype: int64"
      ]
     },
     "execution_count": 24,
     "metadata": {},
     "output_type": "execute_result"
    }
   ],
   "source": [
    "data3.Date.value_counts()"
   ]
  },
  {
   "cell_type": "code",
   "execution_count": 54,
   "id": "228c4a5a-1c5a-44e8-9c18-3c287fb7dac2",
   "metadata": {},
   "outputs": [
    {
     "data": {
      "text/plain": [
       "Index(['ID', 'Date', 'Element', 'Data_Value'], dtype='object')"
      ]
     },
     "execution_count": 54,
     "metadata": {},
     "output_type": "execute_result"
    }
   ],
   "source": [
    "subd=data3[data3['Date']=='2011-09-19']\n",
    "subd.columns        "
   ]
  },
  {
   "cell_type": "code",
   "execution_count": 56,
   "id": "db761a74-8c71-4702-a295-faf9dc3a728f",
   "metadata": {},
   "outputs": [],
   "source": [
    "subdmax=subd[subd['Element']=='TMAX']\n",
    "subdmin=subd[subd['Element']=='TMIN']"
   ]
  },
  {
   "cell_type": "code",
   "execution_count": 57,
   "id": "3eceed65-0562-4230-9f3e-4aaadea69721",
   "metadata": {},
   "outputs": [],
   "source": [
    "subdf=subdmax.append(subdmin)"
   ]
  },
  {
   "cell_type": "code",
   "execution_count": 58,
   "id": "58afe798-d895-426a-8ea6-dcaa9b50acb4",
   "metadata": {},
   "outputs": [
    {
     "data": {
      "text/plain": [
       "[<matplotlib.lines.Line2D at 0x1c1723adbe0>]"
      ]
     },
     "execution_count": 58,
     "metadata": {},
     "output_type": "execute_result"
    },
    {
     "data": {
      "image/png": "[encoded data removed]",
      "text/plain": [
       "<Figure size 432x288 with 1 Axes>"
      ]
     },
     "metadata": {
      "needs_background": "light"
     },
     "output_type": "display_data"
    }
   ],
   "source": [
    "plt.title('2011-09-19')\n",
    "plt.plot(subdf['Data_Value'])"
   ]
  },
  {
   "cell_type": "code",
   "execution_count": 59,
   "id": "20e9a568-5ac8-4557-a188-56d3b4f8baa5",
   "metadata": {},
   "outputs": [],
   "source": [
    "data3['Date']=pd.to_datetime(data3['Date'])"
   ]
  },
  {
   "cell_type": "code",
   "execution_count": 60,
   "id": "5083a218-0165-4365-a5f2-5a349debd688",
   "metadata": {},
   "outputs": [
    {
     "data": {
      "text/plain": [
       "ID                    object\n",
       "Date          datetime64[ns]\n",
       "Element               object\n",
       "Data_Value             int64\n",
       "dtype: object"
      ]
     },
     "execution_count": 60,
     "metadata": {},
     "output_type": "execute_result"
    }
   ],
   "source": [
    "data3.dtypes"
   ]
  },
  {
   "cell_type": "code",
   "execution_count": 61,
   "id": "70b97628-5708-4230-9e51-763ddfbfda6e",
   "metadata": {},
   "outputs": [],
   "source": [
    "df_2015=data3[data3['Date'].dt.year==2015]"
   ]
  },
  {
   "cell_type": "code",
   "execution_count": 62,
   "id": "f1b6836b-95dc-4981-ad57-4ed5b48cb52d",
   "metadata": {},
   "outputs": [
    {
     "data": {
      "text/plain": [
       "<matplotlib.collections.PathCollection at 0x1c17240aee0>"
      ]
     },
     "execution_count": 62,
     "metadata": {},
     "output_type": "execute_result"
    },
    {
     "data": {
      "image/png": "[encoded data removed]",
      "text/plain": [
       "<Figure size 432x288 with 1 Axes>"
      ]
     },
     "metadata": {
      "needs_background": "light"
     },
     "output_type": "display_data"
    }
   ],
   "source": [
    "plt.title(\"scatter for all point 2015\")\n",
    "plt.scatter(df_2015['Element'],df_2015['Data_Value'])"
   ]
  },
  {
   "cell_type": "code",
   "execution_count": null,
   "id": "678b8449-a7d2-4f47-8473-f927b83af419",
   "metadata": {},
   "outputs": [],
   "source": []
  },
  {
   "cell_type": "code",
   "execution_count": 63,
   "id": "2e2a0c0e-e30b-439a-9a02-abc433e2e417",
   "metadata": {},
   "outputs": [],
   "source": [
    "feb=data3[data3.Date.dt.month==2 ]"
   ]
  },
  {
   "cell_type": "code",
   "execution_count": 64,
   "id": "dd78d576-dff4-4954-af22-a08890f6d5fe",
   "metadata": {},
   "outputs": [],
   "source": [
    "leapdaysindex=feb[feb['Date'].dt.day==29].index"
   ]
  },
  {
   "cell_type": "code",
   "execution_count": 65,
   "id": "5603703c-b8c0-48a9-bf3b-df308932e708",
   "metadata": {},
   "outputs": [],
   "source": [
    "droped_leapdays=data3.drop(leapdaysindex)"
   ]
  },
  {
   "cell_type": "code",
   "execution_count": 66,
   "id": "0da5910d-6c6e-4a48-814a-20f6cb2e7c3c",
   "metadata": {},
   "outputs": [
    {
     "data": {
      "text/html": [
       "<div>\n",
       "<style scoped>\n",
       "    .dataframe tbody tr th:only-of-type {\n",
       "        vertical-align: middle;\n",
       "    }\n",
       "\n",
       "    .dataframe tbody tr th {\n",
       "        vertical-align: top;\n",
       "    }\n",
       "\n",
       "    .dataframe thead th {\n",
       "        text-align: right;\n",
       "    }\n",
       "</style>\n",
       "<table border=\"1\" class=\"dataframe\">\n",
       "  <thead>\n",
       "    <tr style=\"text-align: right;\">\n",
       "      <th></th>\n",
       "      <th>ID</th>\n",
       "      <th>Date</th>\n",
       "      <th>Element</th>\n",
       "      <th>Data_Value</th>\n",
       "    </tr>\n",
       "  </thead>\n",
       "  <tbody>\n",
       "    <tr>\n",
       "      <th>0</th>\n",
       "      <td>USW00094889</td>\n",
       "      <td>2014-11-12</td>\n",
       "      <td>TMAX</td>\n",
       "      <td>22</td>\n",
       "    </tr>\n",
       "    <tr>\n",
       "      <th>1</th>\n",
       "      <td>USC00208972</td>\n",
       "      <td>2009-04-29</td>\n",
       "      <td>TMIN</td>\n",
       "      <td>56</td>\n",
       "    </tr>\n",
       "    <tr>\n",
       "      <th>2</th>\n",
       "      <td>USC00200032</td>\n",
       "      <td>2008-05-26</td>\n",
       "      <td>TMAX</td>\n",
       "      <td>278</td>\n",
       "    </tr>\n",
       "    <tr>\n",
       "      <th>3</th>\n",
       "      <td>USC00205563</td>\n",
       "      <td>2005-11-11</td>\n",
       "      <td>TMAX</td>\n",
       "      <td>139</td>\n",
       "    </tr>\n",
       "    <tr>\n",
       "      <th>4</th>\n",
       "      <td>USC00200230</td>\n",
       "      <td>2014-02-27</td>\n",
       "      <td>TMAX</td>\n",
       "      <td>-106</td>\n",
       "    </tr>\n",
       "    <tr>\n",
       "      <th>...</th>\n",
       "      <td>...</td>\n",
       "      <td>...</td>\n",
       "      <td>...</td>\n",
       "      <td>...</td>\n",
       "    </tr>\n",
       "    <tr>\n",
       "      <th>165080</th>\n",
       "      <td>USC00205822</td>\n",
       "      <td>2015-06-09</td>\n",
       "      <td>TMAX</td>\n",
       "      <td>256</td>\n",
       "    </tr>\n",
       "    <tr>\n",
       "      <th>165081</th>\n",
       "      <td>USC00205822</td>\n",
       "      <td>2009-10-06</td>\n",
       "      <td>TMAX</td>\n",
       "      <td>167</td>\n",
       "    </tr>\n",
       "    <tr>\n",
       "      <th>165082</th>\n",
       "      <td>USC00205050</td>\n",
       "      <td>2014-07-14</td>\n",
       "      <td>TMAX</td>\n",
       "      <td>283</td>\n",
       "    </tr>\n",
       "    <tr>\n",
       "      <th>165083</th>\n",
       "      <td>USC00200230</td>\n",
       "      <td>2006-11-29</td>\n",
       "      <td>TMIN</td>\n",
       "      <td>117</td>\n",
       "    </tr>\n",
       "    <tr>\n",
       "      <th>165084</th>\n",
       "      <td>USC00207312</td>\n",
       "      <td>2006-09-04</td>\n",
       "      <td>TMIN</td>\n",
       "      <td>111</td>\n",
       "    </tr>\n",
       "  </tbody>\n",
       "</table>\n",
       "<p>165002 rows × 4 columns</p>\n",
       "</div>"
      ],
      "text/plain": [
       "                 ID       Date Element  Data_Value\n",
       "0       USW00094889 2014-11-12    TMAX          22\n",
       "1       USC00208972 2009-04-29    TMIN          56\n",
       "2       USC00200032 2008-05-26    TMAX         278\n",
       "3       USC00205563 2005-11-11    TMAX         139\n",
       "4       USC00200230 2014-02-27    TMAX        -106\n",
       "...             ...        ...     ...         ...\n",
       "165080  USC00205822 2015-06-09    TMAX         256\n",
       "165081  USC00205822 2009-10-06    TMAX         167\n",
       "165082  USC00205050 2014-07-14    TMAX         283\n",
       "165083  USC00200230 2006-11-29    TMIN         117\n",
       "165084  USC00207312 2006-09-04    TMIN         111\n",
       "\n",
       "[165002 rows x 4 columns]"
      ]
     },
     "execution_count": 66,
     "metadata": {},
     "output_type": "execute_result"
    }
   ],
   "source": [
    "droped_leapdays"
   ]
  },
  {
   "cell_type": "code",
   "execution_count": 67,
   "id": "05be2725-1ee5-48a9-86c5-8223fbe4be1c",
   "metadata": {},
   "outputs": [
    {
     "data": {
      "text/html": [
       "<div>\n",
       "<style scoped>\n",
       "    .dataframe tbody tr th:only-of-type {\n",
       "        vertical-align: middle;\n",
       "    }\n",
       "\n",
       "    .dataframe tbody tr th {\n",
       "        vertical-align: top;\n",
       "    }\n",
       "\n",
       "    .dataframe thead th {\n",
       "        text-align: right;\n",
       "    }\n",
       "</style>\n",
       "<table border=\"1\" class=\"dataframe\">\n",
       "  <thead>\n",
       "    <tr style=\"text-align: right;\">\n",
       "      <th></th>\n",
       "      <th>ID</th>\n",
       "      <th>LATITUDE</th>\n",
       "      <th>LONGITUDE</th>\n",
       "      <th>ELEVATION</th>\n",
       "      <th>STATE</th>\n",
       "      <th>NAME</th>\n",
       "      <th>GSNFLAG</th>\n",
       "      <th>HCNFLAG</th>\n",
       "      <th>WMOID</th>\n",
       "      <th>x</th>\n",
       "      <th>y</th>\n",
       "      <th>x_group</th>\n",
       "      <th>y_group</th>\n",
       "      <th>xy_group</th>\n",
       "      <th>hash</th>\n",
       "    </tr>\n",
       "  </thead>\n",
       "  <tbody>\n",
       "    <tr>\n",
       "      <th>10004</th>\n",
       "      <td>USC00200220</td>\n",
       "      <td>42.2875</td>\n",
       "      <td>-83.7611</td>\n",
       "      <td>263.7</td>\n",
       "      <td>MI</td>\n",
       "      <td>ANN ARBOR 1W</td>\n",
       "      <td>NaN</td>\n",
       "      <td>NaN</td>\n",
       "      <td>NaN</td>\n",
       "      <td>-6.890160e+06</td>\n",
       "      <td>4.702162e+06</td>\n",
       "      <td>-6961077.395912573 to -6863743.967196207</td>\n",
       "      <td>4621600.621334892 to 4718934.050051258</td>\n",
       "      <td>-6961077.395912573 to -6863743.967196207, 4621...</td>\n",
       "      <td>fb441e62df2d58994928907a91895ec62c2c42e6cd075c...</td>\n",
       "    </tr>\n",
       "  </tbody>\n",
       "</table>\n",
       "</div>"
      ],
      "text/plain": [
       "                ID  LATITUDE  LONGITUDE  ELEVATION STATE          NAME  \\\n",
       "10004  USC00200220   42.2875   -83.7611      263.7    MI  ANN ARBOR 1W   \n",
       "\n",
       "      GSNFLAG HCNFLAG  WMOID             x             y  \\\n",
       "10004     NaN     NaN    NaN -6.890160e+06  4.702162e+06   \n",
       "\n",
       "                                        x_group  \\\n",
       "10004  -6961077.395912573 to -6863743.967196207   \n",
       "\n",
       "                                      y_group  \\\n",
       "10004  4621600.621334892 to 4718934.050051258   \n",
       "\n",
       "                                                xy_group  \\\n",
       "10004  -6961077.395912573 to -6863743.967196207, 4621...   \n",
       "\n",
       "                                                    hash  \n",
       "10004  fb441e62df2d58994928907a91895ec62c2c42e6cd075c...  "
      ]
     },
     "execution_count": 67,
     "metadata": {},
     "output_type": "execute_result"
    }
   ],
   "source": [
    "data2[data2['NAME']=='ANN ARBOR 1W'] "
   ]
  },
  {
   "cell_type": "code",
   "execution_count": null,
   "id": "71a7ae6a-cd19-48a1-864c-e60837a6b06e",
   "metadata": {},
   "outputs": [],
   "source": []
  }
 ],
 "metadata": {
  "kernelspec": {
   "display_name": "Python 3",
   "language": "python",
   "name": "python3"
  },
  "language_info": {
   "codemirror_mode": {
    "name": "ipython",
    "version": 3
   },
   "file_extension": ".py",
   "mimetype": "text/x-python",
   "name": "python",
   "nbconvert_exporter": "python",
   "pygments_lexer": "ipython3",
   "version": "3.9.5"
  }
 },
 "nbformat": 4,
 "nbformat_minor": 5
}
